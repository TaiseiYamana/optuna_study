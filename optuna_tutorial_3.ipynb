{
  "nbformat": 4,
  "nbformat_minor": 0,
  "metadata": {
    "colab": {
      "provenance": [],
      "machine_shape": "hm",
      "gpuType": "T4",
      "authorship_tag": "ABX9TyMe84VrVtmDiFJh82FDn6vV",
      "include_colab_link": true
    },
    "kernelspec": {
      "name": "python3",
      "display_name": "Python 3"
    },
    "language_info": {
      "name": "python"
    },
    "accelerator": "GPU"
  },
  "cells": [
    {
      "cell_type": "markdown",
      "metadata": {
        "id": "view-in-github",
        "colab_type": "text"
      },
      "source": [
        "<a href=\"https://colab.research.google.com/github/TaiseiYamana/optuna_study/blob/main/optuna_tutorial_3.ipynb\" target=\"_parent\"><img src=\"https://colab.research.google.com/assets/colab-badge.svg\" alt=\"Open In Colab\"/></a>"
      ]
    },
    {
      "cell_type": "markdown",
      "source": [
        "# Optuna チュートリアル3\n",
        "\n",
        "## 参考本\n",
        "https://www.ohmsha.co.jp/book/9784274230103/\n",
        "## GitHub\n",
        "https://github.com/pfnet-research/optuna-book"
      ],
      "metadata": {
        "id": "NC7S8LpZls9Z"
      }
    },
    {
      "cell_type": "code",
      "execution_count": null,
      "metadata": {
        "colab": {
          "base_uri": "https://localhost:8080/"
        },
        "id": "gb3rvNH5rp0q",
        "outputId": "bbf6ccd0-d5a3-439e-eef8-95977fd93c1a"
      },
      "outputs": [
        {
          "output_type": "stream",
          "name": "stdout",
          "text": [
            "Requirement already satisfied: optuna in /usr/local/lib/python3.10/dist-packages (3.2.0)\n",
            "Requirement already satisfied: alembic>=1.5.0 in /usr/local/lib/python3.10/dist-packages (from optuna) (1.11.1)\n",
            "Requirement already satisfied: cmaes>=0.9.1 in /usr/local/lib/python3.10/dist-packages (from optuna) (0.9.1)\n",
            "Requirement already satisfied: colorlog in /usr/local/lib/python3.10/dist-packages (from optuna) (6.7.0)\n",
            "Requirement already satisfied: numpy in /usr/local/lib/python3.10/dist-packages (from optuna) (1.22.4)\n",
            "Requirement already satisfied: packaging>=20.0 in /usr/local/lib/python3.10/dist-packages (from optuna) (23.1)\n",
            "Requirement already satisfied: sqlalchemy>=1.3.0 in /usr/local/lib/python3.10/dist-packages (from optuna) (2.0.16)\n",
            "Requirement already satisfied: tqdm in /usr/local/lib/python3.10/dist-packages (from optuna) (4.65.0)\n",
            "Requirement already satisfied: PyYAML in /usr/local/lib/python3.10/dist-packages (from optuna) (6.0)\n",
            "Requirement already satisfied: Mako in /usr/local/lib/python3.10/dist-packages (from alembic>=1.5.0->optuna) (1.2.4)\n",
            "Requirement already satisfied: typing-extensions>=4 in /usr/local/lib/python3.10/dist-packages (from alembic>=1.5.0->optuna) (4.6.3)\n",
            "Requirement already satisfied: greenlet!=0.4.17 in /usr/local/lib/python3.10/dist-packages (from sqlalchemy>=1.3.0->optuna) (2.0.2)\n",
            "Requirement already satisfied: MarkupSafe>=0.9.2 in /usr/local/lib/python3.10/dist-packages (from Mako->alembic>=1.5.0->optuna) (2.1.3)\n"
          ]
        }
      ],
      "source": [
        "!pip3 install optuna"
      ]
    },
    {
      "cell_type": "markdown",
      "source": [
        "# 分散並列最適化\n"
      ],
      "metadata": {
        "id": "AYtd3CE5rxkV"
      }
    },
    {
      "cell_type": "markdown",
      "source": [
        "大規模な機械学習モデルを学習する場合は、1回のトライアルにかかる時間が長くなります。  \n",
        "そのような時はハイパーパラメータの最適化を並列化したい場合があります。\n",
        "\n",
        "Optunaを用いると、分散並列ハイパーパラメータ最適化を簡単に行う事ができます。   \n",
        "Optunaの一般の分散並列最適化はRDBを用いるため、GoogleColabでは簡易的にできません。  \n",
        "実行可能な環境で以下手順を実施してください。  \n",
        "https://optuna.readthedocs.io/en/stable/tutorial/10_key_features/004_distributed.html"
      ],
      "metadata": {
        "id": "r5bTkG9WKWIR"
      }
    },
    {
      "cell_type": "markdown",
      "source": [
        "## Optunaの分散並列最適化の仕組み\n",
        "\n",
        "全ての最適化履歴は、MySQLやPostgreSQLなどのRDB等の共有のストレージに保存されます。  \n",
        "そして、実際に最適化を実行する複数のワーカーは、それぞれが独立にこのストレージにアクセスします。\n",
        "そのため任意のワーカーを追加可能で中断ができます。またワーカー間の競合は、Optunaが管理をしてくれるのでユーザは気を遣う必要がありません。\n"
      ],
      "metadata": {
        "id": "KWON9lKqLMQR"
      }
    },
    {
      "cell_type": "markdown",
      "source": [
        "## google colabでgoogle driveをストレージに利用\n"
      ],
      "metadata": {
        "id": "5rPj1a2myT6X"
      }
    },
    {
      "cell_type": "code",
      "source": [
        "from google.colab import drive\n",
        "drive.mount('/content/drive')"
      ],
      "metadata": {
        "colab": {
          "base_uri": "https://localhost:8080/"
        },
        "id": "AArLqYxOygXq",
        "outputId": "976638a7-25ef-4a7f-9e3d-1197d355efb3"
      },
      "execution_count": null,
      "outputs": [
        {
          "output_type": "stream",
          "name": "stdout",
          "text": [
            "Drive already mounted at /content/drive; to attempt to forcibly remount, call drive.mount(\"/content/drive\", force_remount=True).\n"
          ]
        }
      ]
    },
    {
      "cell_type": "code",
      "source": [
        "import os\n",
        "\n",
        "directory_path = './drive/MyDrive/test_optuna_colab_db/'\n",
        "if not os.path.exists(directory_path):\n",
        "    os.makedirs(directory_path)"
      ],
      "metadata": {
        "id": "hSzuMwWRy2r6"
      },
      "execution_count": null,
      "outputs": []
    },
    {
      "cell_type": "markdown",
      "source": [
        "# Optunaの機械学習サンプルコード\n",
        "ソースコード：https://github.com/optuna/optuna-examples/blob/main/pytorch/pytorch_simple.py  \n",
        "\n",
        "FashionMNISTのクラス分類\n",
        "モデルはMLPを使用\n",
        "\n",
        "探索パラメータ:\n",
        "- モデルのレイヤー数 1~3\n",
        "- 各層のユニット数 4~128\n",
        "- 各層のドロップアウト率 0.2~0.5\n",
        "- 学習率 1e-5 ~ 1e-1\n",
        "- Optimizer [Adam, RMSprop, SGD]\n",
        "\n",
        "実行トライアル数 500\n",
        "枝切り MedianPruner"
      ],
      "metadata": {
        "id": "U1oufaRI0DaP"
      }
    },
    {
      "cell_type": "code",
      "source": [
        "import optuna\n",
        "from optuna.trial import TrialState\n",
        "from optuna.study import MaxTrialsCallback\n",
        "import torch\n",
        "import torch.nn as nn\n",
        "import torch.nn.functional as F\n",
        "import torch.optim as optim\n",
        "import torch.utils.data\n",
        "from torchvision import datasets\n",
        "from torchvision import transforms\n",
        "\n",
        "\n",
        "DEVICE = torch.device('cuda' if torch.cuda.is_available() else 'cpu')\n",
        "BATCHSIZE = 128\n",
        "CLASSES = 10\n",
        "DIR = os.getcwd()\n",
        "EPOCHS = 10\n",
        "N_TRAIN_EXAMPLES = BATCHSIZE * 30\n",
        "N_VALID_EXAMPLES = BATCHSIZE * 10\n",
        "\n",
        "def define_model(trial):\n",
        "    # We optimize the number of layers, hidden units and dropout ratio in each layer.\n",
        "    n_layers = trial.suggest_int(\"n_layers\", 1, 3)\n",
        "    layers = []\n",
        "\n",
        "    in_features = 28 * 28\n",
        "    for i in range(n_layers):\n",
        "        out_features = trial.suggest_int(\"n_units_l{}\".format(i), 4, 128)\n",
        "        layers.append(nn.Linear(in_features, out_features))\n",
        "        layers.append(nn.ReLU())\n",
        "        p = trial.suggest_float(\"dropout_l{}\".format(i), 0.2, 0.5)\n",
        "        layers.append(nn.Dropout(p))\n",
        "\n",
        "        in_features = out_features\n",
        "    layers.append(nn.Linear(in_features, CLASSES))\n",
        "    layers.append(nn.LogSoftmax(dim=1))\n",
        "\n",
        "    return nn.Sequential(*layers)\n",
        "\n",
        "def get_mnist():\n",
        "    # Load FashionMNIST dataset.\n",
        "    train_loader = torch.utils.data.DataLoader(\n",
        "        datasets.FashionMNIST(DIR, train=True, download=True, transform=transforms.ToTensor()),\n",
        "        batch_size=BATCHSIZE,\n",
        "        shuffle=True,\n",
        "    )\n",
        "    valid_loader = torch.utils.data.DataLoader(\n",
        "        datasets.FashionMNIST(DIR, train=False, transform=transforms.ToTensor()),\n",
        "        batch_size=BATCHSIZE,\n",
        "        shuffle=True,\n",
        "    )\n",
        "\n",
        "    return train_loader, valid_loader\n",
        "\n",
        "def objective(trial):\n",
        "    # Generate the model.\n",
        "    model = define_model(trial).to(DEVICE)\n",
        "\n",
        "    # Generate the optimizers.\n",
        "    optimizer_name = trial.suggest_categorical(\"optimizer\", [\"Adam\", \"RMSprop\", \"SGD\"])\n",
        "    lr = trial.suggest_float(\"lr\", 1e-5, 1e-1, log=True)\n",
        "    optimizer = getattr(optim, optimizer_name)(model.parameters(), lr=lr)\n",
        "\n",
        "    # Get the FashionMNIST dataset.\n",
        "    train_loader, valid_loader = get_mnist()\n",
        "\n",
        "    # Training of the model.\n",
        "    for epoch in range(EPOCHS):\n",
        "        model.train()\n",
        "        for batch_idx, (data, target) in enumerate(train_loader):\n",
        "            # Limiting training data for faster epochs.\n",
        "            if batch_idx * BATCHSIZE >= N_TRAIN_EXAMPLES:\n",
        "                break\n",
        "\n",
        "            data, target = data.view(data.size(0), -1).to(DEVICE), target.to(DEVICE)\n",
        "\n",
        "            optimizer.zero_grad()\n",
        "            output = model(data)\n",
        "            loss = F.nll_loss(output, target)\n",
        "            loss.backward()\n",
        "            optimizer.step()\n",
        "\n",
        "        # Validation of the model.\n",
        "        model.eval()\n",
        "        correct = 0\n",
        "        with torch.no_grad():\n",
        "            for batch_idx, (data, target) in enumerate(valid_loader):\n",
        "                # Limiting validation data.\n",
        "                if batch_idx * BATCHSIZE >= N_VALID_EXAMPLES:\n",
        "                    break\n",
        "                data, target = data.view(data.size(0), -1).to(DEVICE), target.to(DEVICE)\n",
        "                output = model(data)\n",
        "                # Get the index of the max log-probability.\n",
        "                pred = output.argmax(dim=1, keepdim=True)\n",
        "                correct += pred.eq(target.view_as(pred)).sum().item()\n",
        "\n",
        "        accuracy = correct / min(len(valid_loader.dataset), N_VALID_EXAMPLES)\n",
        "\n",
        "        trial.report(accuracy, epoch)\n",
        "\n",
        "        # Handle pruning based on the intermediate value.\n",
        "        if trial.should_prune():\n",
        "            raise optuna.exceptions.TrialPruned()\n",
        "\n",
        "    return accuracy"
      ],
      "metadata": {
        "id": "IUde56Ikr9i0"
      },
      "execution_count": null,
      "outputs": []
    },
    {
      "cell_type": "code",
      "source": [
        "n_trials = 500\n",
        "strage_name = \"optuna_strage.sql\"\n",
        "study_name = 'example-study'\n",
        "study = optuna.create_study(\n",
        "    study_name = study_name,\n",
        "    storage='sqlite:///' + directory_path + strage_name,\n",
        "    load_if_exists=True,\n",
        "    direction='minimize',\n",
        "    )\n",
        "\n",
        "study.optimize(objective,\n",
        "               n_trials=n_trials,\n",
        "               callbacks=[MaxTrialsCallback(n_trials)],\n",
        "               timeout=600)\n"
      ],
      "metadata": {
        "colab": {
          "base_uri": "https://localhost:8080/"
        },
        "id": "5Kpj8vmc2GaC",
        "outputId": "42d7df62-996f-4c72-9e17-0c539b8ef5ec"
      },
      "execution_count": null,
      "outputs": [
        {
          "output_type": "stream",
          "name": "stderr",
          "text": [
            "[I 2023-07-03 18:30:02,118] A new study created in RDB with name: example-study\n",
            "[I 2023-07-03 18:30:10,647] Trial 0 finished with value: 0.703125 and parameters: {'dropout_l0': 0.37685382002960804, 'dropout_l1': 0.31071874845112385, 'dropout_l2': 0.4180774733286242, 'lr': 0.001401951248446558, 'n_layers': 3, 'n_units_l0': 69, 'n_units_l1': 51, 'n_units_l2': 14, 'optimizer': 'Adam'}. Best is trial 0 with value: 0.703125.\n",
            "[I 2023-07-03 18:30:19,060] Trial 1 finished with value: 0.55390625 and parameters: {'dropout_l0': 0.23979534698769467, 'dropout_l1': 0.4851785763903169, 'dropout_l2': 0.22166312104634184, 'lr': 7.29893950307144e-05, 'n_layers': 3, 'n_units_l0': 54, 'n_units_l1': 102, 'n_units_l2': 70, 'optimizer': 'RMSprop'}. Best is trial 1 with value: 0.55390625.\n",
            "[I 2023-07-03 18:30:27,875] Trial 2 finished with value: 0.14140625 and parameters: {'dropout_l0': 0.4539468158084668, 'lr': 8.308476303322512e-05, 'n_layers': 1, 'n_units_l0': 34, 'optimizer': 'SGD'}. Best is trial 2 with value: 0.14140625.\n",
            "[I 2023-07-03 18:30:36,214] Trial 3 finished with value: 0.46484375 and parameters: {'dropout_l0': 0.4663066225277237, 'lr': 0.05446916395238765, 'n_layers': 1, 'n_units_l0': 118, 'optimizer': 'Adam'}. Best is trial 2 with value: 0.14140625.\n",
            "[I 2023-07-03 18:30:44,356] Trial 4 finished with value: 0.62109375 and parameters: {'dropout_l0': 0.22224319748907556, 'dropout_l1': 0.2283304237374611, 'lr': 0.0026237024695343844, 'n_layers': 2, 'n_units_l0': 9, 'n_units_l1': 24, 'optimizer': 'Adam'}. Best is trial 2 with value: 0.14140625.\n",
            "[I 2023-07-03 18:30:52,905] Trial 5 finished with value: 0.13828125 and parameters: {'dropout_l0': 0.49046972009031164, 'dropout_l1': 0.3659993048753857, 'dropout_l2': 0.3393473970612433, 'lr': 0.00820227590630029, 'n_layers': 3, 'n_units_l0': 46, 'n_units_l1': 59, 'n_units_l2': 84, 'optimizer': 'SGD'}. Best is trial 5 with value: 0.13828125.\n",
            "[I 2023-07-03 18:30:53,917] Trial 6 pruned. \n",
            "[I 2023-07-03 18:30:54,954] Trial 7 pruned. \n",
            "[I 2023-07-03 18:31:02,993] Trial 8 finished with value: 0.09140625 and parameters: {'dropout_l0': 0.20908840926152467, 'dropout_l1': 0.2089310874487726, 'lr': 8.504678498334868e-05, 'n_layers': 2, 'n_units_l0': 7, 'n_units_l1': 62, 'optimizer': 'SGD'}. Best is trial 8 with value: 0.09140625.\n",
            "[I 2023-07-03 18:31:11,923] Trial 9 finished with value: 0.60078125 and parameters: {'dropout_l0': 0.47325538209606166, 'dropout_l1': 0.3448016894075273, 'lr': 0.015195293385257179, 'n_layers': 2, 'n_units_l0': 107, 'n_units_l1': 28, 'optimizer': 'SGD'}. Best is trial 8 with value: 0.09140625.\n",
            "[I 2023-07-03 18:31:20,557] Trial 10 finished with value: 0.10546875 and parameters: {'dropout_l0': 0.28370406941876614, 'dropout_l1': 0.20316224232349825, 'lr': 1.0461704832601807e-05, 'n_layers': 2, 'n_units_l0': 76, 'n_units_l1': 102, 'optimizer': 'SGD'}. Best is trial 8 with value: 0.09140625.\n",
            "[I 2023-07-03 18:31:29,053] Trial 11 finished with value: 0.096875 and parameters: {'dropout_l0': 0.2717932005357125, 'dropout_l1': 0.20774593641738806, 'lr': 1.1378898069414538e-05, 'n_layers': 2, 'n_units_l0': 86, 'n_units_l1': 107, 'optimizer': 'SGD'}. Best is trial 8 with value: 0.09140625.\n",
            "[I 2023-07-03 18:31:37,645] Trial 12 finished with value: 0.10390625 and parameters: {'dropout_l0': 0.2059790235952315, 'dropout_l1': 0.20320363859174698, 'lr': 1.3990254157681492e-05, 'n_layers': 2, 'n_units_l0': 87, 'n_units_l1': 82, 'optimizer': 'SGD'}. Best is trial 8 with value: 0.09140625.\n",
            "[I 2023-07-03 18:31:46,134] Trial 13 finished with value: 0.09453125 and parameters: {'dropout_l0': 0.2631912960505527, 'dropout_l1': 0.2532313243235531, 'lr': 8.339689323354136e-05, 'n_layers': 2, 'n_units_l0': 96, 'n_units_l1': 125, 'optimizer': 'SGD'}. Best is trial 8 with value: 0.09140625.\n",
            "[I 2023-07-03 18:31:54,539] Trial 14 finished with value: 0.1 and parameters: {'dropout_l0': 0.20226746959293915, 'dropout_l1': 0.2698687829449102, 'lr': 0.00022653283668044337, 'n_layers': 2, 'n_units_l0': 101, 'n_units_l1': 127, 'optimizer': 'SGD'}. Best is trial 8 with value: 0.09140625.\n",
            "[I 2023-07-03 18:31:55,750] Trial 15 pruned. \n",
            "[I 2023-07-03 18:31:56,919] Trial 16 pruned. \n",
            "[I 2023-07-03 18:31:57,981] Trial 17 pruned. \n",
            "[I 2023-07-03 18:31:59,224] Trial 18 pruned. \n",
            "[I 2023-07-03 18:32:00,417] Trial 19 pruned. \n",
            "[I 2023-07-03 18:32:01,514] Trial 20 pruned. \n",
            "[I 2023-07-03 18:32:10,096] Trial 21 finished with value: 0.09765625 and parameters: {'dropout_l0': 0.27444388720412266, 'dropout_l1': 0.20036476112753707, 'lr': 1.7934386228145594e-05, 'n_layers': 2, 'n_units_l0': 79, 'n_units_l1': 100, 'optimizer': 'SGD'}. Best is trial 8 with value: 0.09140625.\n",
            "[I 2023-07-03 18:32:18,416] Trial 22 finished with value: 0.0953125 and parameters: {'dropout_l0': 0.23248600331929925, 'dropout_l1': 0.22703360388426833, 'lr': 3.119898462958853e-05, 'n_layers': 2, 'n_units_l0': 106, 'n_units_l1': 114, 'optimizer': 'SGD'}. Best is trial 8 with value: 0.09140625.\n",
            "[I 2023-07-03 18:32:26,904] Trial 23 finished with value: 0.07734375 and parameters: {'dropout_l0': 0.23184175921997927, 'dropout_l1': 0.23941247465167642, 'lr': 0.00010325715879188348, 'n_layers': 2, 'n_units_l0': 106, 'n_units_l1': 118, 'optimizer': 'SGD'}. Best is trial 23 with value: 0.07734375.\n",
            "[I 2023-07-03 18:32:28,015] Trial 24 pruned. \n",
            "[I 2023-07-03 18:32:36,569] Trial 25 finished with value: 0.0921875 and parameters: {'dropout_l0': 0.2025230321506208, 'dropout_l1': 0.2392399848084586, 'lr': 0.00014936704328594424, 'n_layers': 2, 'n_units_l0': 114, 'n_units_l1': 116, 'optimizer': 'SGD'}. Best is trial 23 with value: 0.07734375.\n",
            "[I 2023-07-03 18:32:37,623] Trial 26 pruned. \n",
            "[I 2023-07-03 18:32:38,793] Trial 27 pruned. \n",
            "[I 2023-07-03 18:32:39,905] Trial 28 pruned. \n",
            "[I 2023-07-03 18:32:41,101] Trial 29 pruned. \n",
            "[I 2023-07-03 18:32:42,241] Trial 30 pruned. \n",
            "[I 2023-07-03 18:32:43,349] Trial 31 pruned. \n",
            "[I 2023-07-03 18:32:52,114] Trial 32 finished with value: 0.0890625 and parameters: {'dropout_l0': 0.22056137480426302, 'dropout_l1': 0.27136900855840795, 'lr': 6.133785166212818e-05, 'n_layers': 2, 'n_units_l0': 117, 'n_units_l1': 116, 'optimizer': 'SGD'}. Best is trial 23 with value: 0.07734375.\n",
            "[I 2023-07-03 18:32:53,223] Trial 33 pruned. \n",
            "[I 2023-07-03 18:33:01,850] Trial 34 finished with value: 0.0875 and parameters: {'dropout_l0': 0.2381560742884925, 'dropout_l1': 0.21553328510741662, 'lr': 0.0002194537705407002, 'n_layers': 2, 'n_units_l0': 121, 'n_units_l1': 73, 'optimizer': 'SGD'}. Best is trial 23 with value: 0.07734375.\n",
            "[I 2023-07-03 18:33:10,460] Trial 35 finished with value: 0.090625 and parameters: {'dropout_l0': 0.24243546156925677, 'dropout_l1': 0.21266221042503233, 'lr': 2.4566984693145573e-05, 'n_layers': 2, 'n_units_l0': 124, 'n_units_l1': 75, 'optimizer': 'SGD'}. Best is trial 23 with value: 0.07734375.\n",
            "[I 2023-07-03 18:33:11,616] Trial 36 pruned. \n",
            "[I 2023-07-03 18:33:12,805] Trial 37 pruned. \n",
            "[I 2023-07-03 18:33:13,940] Trial 38 pruned. \n",
            "[I 2023-07-03 18:33:22,280] Trial 39 finished with value: 0.1 and parameters: {'dropout_l0': 0.22258907878894899, 'lr': 5.829355478781331e-05, 'n_layers': 1, 'n_units_l0': 128, 'optimizer': 'SGD'}. Best is trial 23 with value: 0.07734375.\n",
            "[I 2023-07-03 18:33:23,502] Trial 40 pruned. \n",
            "[I 2023-07-03 18:33:32,049] Trial 41 finished with value: 0.028125 and parameters: {'dropout_l0': 0.21884271166824862, 'dropout_l1': 0.21317926174217283, 'lr': 7.739175317791288e-05, 'n_layers': 2, 'n_units_l0': 115, 'n_units_l1': 68, 'optimizer': 'SGD'}. Best is trial 41 with value: 0.028125.\n",
            "[I 2023-07-03 18:33:40,771] Trial 42 finished with value: 0.0890625 and parameters: {'dropout_l0': 0.22875526867034304, 'dropout_l1': 0.2194645742181663, 'lr': 3.156030280719372e-05, 'n_layers': 2, 'n_units_l0': 115, 'n_units_l1': 71, 'optimizer': 'SGD'}. Best is trial 41 with value: 0.028125.\n",
            "[I 2023-07-03 18:33:49,494] Trial 43 finished with value: 0.0859375 and parameters: {'dropout_l0': 0.22519951821746576, 'dropout_l1': 0.24767841185115216, 'lr': 0.00021919056797187832, 'n_layers': 2, 'n_units_l0': 114, 'n_units_l1': 42, 'optimizer': 'SGD'}. Best is trial 41 with value: 0.028125.\n",
            "[I 2023-07-03 18:33:50,670] Trial 44 pruned. \n",
            "[I 2023-07-03 18:33:59,254] Trial 45 finished with value: 0.0859375 and parameters: {'dropout_l0': 0.21551360785761528, 'dropout_l1': 0.24337150163870958, 'lr': 0.0001142813559562147, 'n_layers': 2, 'n_units_l0': 103, 'n_units_l1': 42, 'optimizer': 'SGD'}. Best is trial 41 with value: 0.028125.\n",
            "[I 2023-07-03 18:34:07,765] Trial 46 finished with value: 0.09140625 and parameters: {'dropout_l0': 0.2677103923965244, 'dropout_l1': 0.24226773859611747, 'lr': 0.00023872778820135297, 'n_layers': 2, 'n_units_l0': 89, 'n_units_l1': 41, 'optimizer': 'SGD'}. Best is trial 41 with value: 0.028125.\n",
            "[I 2023-07-03 18:34:16,312] Trial 47 finished with value: 0.10546875 and parameters: {'dropout_l0': 0.25813752624954506, 'dropout_l1': 0.22854399533698988, 'lr': 0.0009802980738036744, 'n_layers': 2, 'n_units_l0': 102, 'n_units_l1': 14, 'optimizer': 'SGD'}. Best is trial 41 with value: 0.028125.\n",
            "[I 2023-07-03 18:34:24,740] Trial 48 finished with value: 0.10390625 and parameters: {'dropout_l0': 0.2120016046946876, 'dropout_l1': 0.20048062416053103, 'lr': 0.00011286124710142147, 'n_layers': 2, 'n_units_l0': 82, 'n_units_l1': 55, 'optimizer': 'SGD'}. Best is trial 41 with value: 0.028125.\n",
            "[I 2023-07-03 18:34:25,901] Trial 49 pruned. \n",
            "[I 2023-07-03 18:34:34,539] Trial 50 finished with value: 0.25625 and parameters: {'dropout_l0': 0.2136210765952645, 'dropout_l1': 0.2575393344420915, 'lr': 0.0016440784760323461, 'n_layers': 2, 'n_units_l0': 110, 'n_units_l1': 47, 'optimizer': 'SGD'}. Best is trial 41 with value: 0.028125.\n",
            "[I 2023-07-03 18:34:43,087] Trial 51 finished with value: 0.09765625 and parameters: {'dropout_l0': 0.21545285041462386, 'dropout_l1': 0.22137423170952886, 'lr': 7.336438698047311e-05, 'n_layers': 2, 'n_units_l0': 116, 'n_units_l1': 20, 'optimizer': 'SGD'}. Best is trial 41 with value: 0.028125.\n",
            "[I 2023-07-03 18:34:44,217] Trial 52 pruned. \n",
            "[I 2023-07-03 18:34:52,766] Trial 53 finished with value: 0.06328125 and parameters: {'dropout_l0': 0.21917016353288588, 'dropout_l1': 0.24908870667111038, 'lr': 6.782507167745584e-05, 'n_layers': 2, 'n_units_l0': 101, 'n_units_l1': 58, 'optimizer': 'SGD'}. Best is trial 41 with value: 0.028125.\n",
            "[I 2023-07-03 18:34:53,910] Trial 54 pruned. \n",
            "[I 2023-07-03 18:35:02,547] Trial 55 finished with value: 0.096875 and parameters: {'dropout_l0': 0.25005152666054775, 'dropout_l1': 0.24762828467877465, 'lr': 0.00012099908181192763, 'n_layers': 2, 'n_units_l0': 109, 'n_units_l1': 45, 'optimizer': 'SGD'}. Best is trial 41 with value: 0.028125.\n",
            "[I 2023-07-03 18:35:03,807] Trial 56 pruned. \n",
            "[I 2023-07-03 18:35:05,045] Trial 57 pruned. \n",
            "[I 2023-07-03 18:35:06,220] Trial 58 pruned. \n",
            "[I 2023-07-03 18:35:07,410] Trial 59 pruned. \n",
            "[I 2023-07-03 18:35:08,657] Trial 60 pruned. \n",
            "[I 2023-07-03 18:35:09,789] Trial 61 pruned. \n",
            "[I 2023-07-03 18:35:10,998] Trial 62 pruned. \n",
            "[I 2023-07-03 18:35:19,728] Trial 63 finished with value: 0.0921875 and parameters: {'dropout_l0': 0.2023180639526644, 'dropout_l1': 0.23281941155441294, 'lr': 8.606723059171525e-05, 'n_layers': 2, 'n_units_l0': 99, 'n_units_l1': 66, 'optimizer': 'SGD'}. Best is trial 41 with value: 0.028125.\n",
            "[I 2023-07-03 18:35:21,046] Trial 64 pruned. \n",
            "[I 2023-07-03 18:35:22,196] Trial 65 pruned. \n",
            "[I 2023-07-03 18:35:23,357] Trial 66 pruned. \n",
            "[I 2023-07-03 18:35:24,542] Trial 67 pruned. \n",
            "[I 2023-07-03 18:35:25,715] Trial 68 pruned. \n",
            "[I 2023-07-03 18:35:26,890] Trial 69 pruned. \n",
            "[I 2023-07-03 18:35:28,155] Trial 70 pruned. \n",
            "[I 2023-07-03 18:35:29,447] Trial 71 pruned. \n",
            "[I 2023-07-03 18:35:38,041] Trial 72 finished with value: 0.0546875 and parameters: {'dropout_l0': 0.224081192480811, 'dropout_l1': 0.22950622980390387, 'lr': 3.506716572815378e-05, 'n_layers': 2, 'n_units_l0': 106, 'n_units_l1': 72, 'optimizer': 'SGD'}. Best is trial 41 with value: 0.028125.\n",
            "[I 2023-07-03 18:35:46,744] Trial 73 finished with value: 0.08203125 and parameters: {'dropout_l0': 0.20880813741231422, 'dropout_l1': 0.2331781031416485, 'lr': 4.692776015051591e-05, 'n_layers': 2, 'n_units_l0': 107, 'n_units_l1': 59, 'optimizer': 'SGD'}. Best is trial 41 with value: 0.028125.\n",
            "[I 2023-07-03 18:35:55,463] Trial 74 finished with value: 0.09765625 and parameters: {'dropout_l0': 0.2106823711039393, 'dropout_l1': 0.23087502861355577, 'lr': 1.5688079003233906e-05, 'n_layers': 2, 'n_units_l0': 103, 'n_units_l1': 59, 'optimizer': 'SGD'}. Best is trial 41 with value: 0.028125.\n",
            "[I 2023-07-03 18:36:04,125] Trial 75 finished with value: 0.071875 and parameters: {'dropout_l0': 0.22863604212258212, 'dropout_l1': 0.2373335595225502, 'lr': 4.914976872614602e-05, 'n_layers': 2, 'n_units_l0': 106, 'n_units_l1': 72, 'optimizer': 'SGD'}. Best is trial 41 with value: 0.028125.\n",
            "[I 2023-07-03 18:36:05,355] Trial 76 pruned. \n",
            "[I 2023-07-03 18:36:06,703] Trial 77 pruned. \n",
            "[I 2023-07-03 18:36:07,992] Trial 78 pruned. \n",
            "[I 2023-07-03 18:36:16,778] Trial 79 finished with value: 0.028125 and parameters: {'dropout_l0': 0.20002482253572965, 'dropout_l1': 0.20876260744102937, 'lr': 7.596352704082245e-05, 'n_layers': 2, 'n_units_l0': 111, 'n_units_l1': 36, 'optimizer': 'SGD'}. Best is trial 41 with value: 0.028125.\n",
            "[I 2023-07-03 18:36:18,026] Trial 80 pruned. \n",
            "[I 2023-07-03 18:36:19,341] Trial 81 pruned. \n",
            "[I 2023-07-03 18:36:27,980] Trial 82 finished with value: 0.0625 and parameters: {'dropout_l0': 0.22815206020046105, 'dropout_l1': 0.211440410241285, 'lr': 3.863451646770803e-05, 'n_layers': 2, 'n_units_l0': 62, 'n_units_l1': 31, 'optimizer': 'SGD'}. Best is trial 41 with value: 0.028125.\n",
            "[I 2023-07-03 18:36:29,170] Trial 83 pruned. \n",
            "[I 2023-07-03 18:36:38,042] Trial 84 finished with value: 0.078125 and parameters: {'dropout_l0': 0.24592789757411804, 'dropout_l1': 0.2208422032861991, 'lr': 5.033408019486871e-05, 'n_layers': 2, 'n_units_l0': 69, 'n_units_l1': 69, 'optimizer': 'SGD'}. Best is trial 41 with value: 0.028125.\n",
            "[I 2023-07-03 18:36:39,229] Trial 85 pruned. \n",
            "[I 2023-07-03 18:36:40,435] Trial 86 pruned. \n",
            "[I 2023-07-03 18:36:41,627] Trial 87 pruned. \n",
            "[I 2023-07-03 18:36:42,826] Trial 88 pruned. \n",
            "[I 2023-07-03 18:36:51,205] Trial 89 finished with value: 0.09375 and parameters: {'dropout_l0': 0.2185469872305984, 'dropout_l1': 0.2100408359461029, 'lr': 1.62647642401587e-05, 'n_layers': 2, 'n_units_l0': 4, 'n_units_l1': 86, 'optimizer': 'SGD'}. Best is trial 41 with value: 0.028125.\n",
            "[I 2023-07-03 18:36:52,419] Trial 90 pruned. \n",
            "[I 2023-07-03 18:37:01,154] Trial 91 finished with value: 0.05625 and parameters: {'dropout_l0': 0.23695131439241623, 'dropout_l1': 0.22933952974492558, 'lr': 6.955162523839849e-05, 'n_layers': 2, 'n_units_l0': 65, 'n_units_l1': 56, 'optimizer': 'SGD'}. Best is trial 41 with value: 0.028125.\n",
            "[I 2023-07-03 18:37:10,056] Trial 92 finished with value: 0.09453125 and parameters: {'dropout_l0': 0.23805217061395995, 'dropout_l1': 0.2229776495543576, 'lr': 7.130277246306976e-05, 'n_layers': 2, 'n_units_l0': 63, 'n_units_l1': 57, 'optimizer': 'SGD'}. Best is trial 41 with value: 0.028125.\n",
            "[I 2023-07-03 18:37:11,315] Trial 93 pruned. \n",
            "[I 2023-07-03 18:37:19,847] Trial 94 finished with value: 0.07734375 and parameters: {'dropout_l0': 0.23342925704257553, 'dropout_l1': 0.22967019452514773, 'lr': 5.446442109370222e-05, 'n_layers': 2, 'n_units_l0': 53, 'n_units_l1': 72, 'optimizer': 'SGD'}. Best is trial 41 with value: 0.028125.\n",
            "[I 2023-07-03 18:37:21,131] Trial 95 pruned. \n",
            "[I 2023-07-03 18:37:22,448] Trial 96 pruned. \n",
            "[I 2023-07-03 18:37:23,777] Trial 97 pruned. \n",
            "[I 2023-07-03 18:37:32,383] Trial 98 finished with value: 0.0921875 and parameters: {'dropout_l0': 0.2559510991343166, 'dropout_l1': 0.22656443106594762, 'lr': 3.354245604387176e-05, 'n_layers': 2, 'n_units_l0': 41, 'n_units_l1': 77, 'optimizer': 'SGD'}. Best is trial 41 with value: 0.028125.\n",
            "[I 2023-07-03 18:37:41,251] Trial 99 finished with value: 0.06484375 and parameters: {'dropout_l0': 0.23627892397898753, 'dropout_l1': 0.2556858251001668, 'lr': 1.9397351771123153e-05, 'n_layers': 2, 'n_units_l0': 46, 'n_units_l1': 93, 'optimizer': 'SGD'}. Best is trial 41 with value: 0.028125.\n",
            "[I 2023-07-03 18:37:42,492] Trial 100 pruned. \n",
            "[I 2023-07-03 18:37:51,354] Trial 101 finished with value: 0.0765625 and parameters: {'dropout_l0': 0.23958475524941805, 'dropout_l1': 0.2401262333972148, 'lr': 4.1292618697938446e-05, 'n_layers': 2, 'n_units_l0': 56, 'n_units_l1': 92, 'optimizer': 'SGD'}. Best is trial 41 with value: 0.028125.\n",
            "[I 2023-07-03 18:38:00,317] Trial 102 finished with value: 0.0703125 and parameters: {'dropout_l0': 0.22311198732955717, 'dropout_l1': 0.24140406079157253, 'lr': 1.7896499697727928e-05, 'n_layers': 2, 'n_units_l0': 56, 'n_units_l1': 93, 'optimizer': 'SGD'}. Best is trial 41 with value: 0.028125.\n",
            "[I 2023-07-03 18:38:01,633] Trial 103 pruned. \n",
            "[I 2023-07-03 18:38:02,877] Trial 104 pruned. \n",
            "[I 2023-07-03 18:38:04,140] Trial 105 pruned. \n",
            "[I 2023-07-03 18:38:05,374] Trial 106 pruned. \n",
            "[I 2023-07-03 18:38:06,610] Trial 107 pruned. \n",
            "[I 2023-07-03 18:38:07,843] Trial 108 pruned. \n",
            "[I 2023-07-03 18:38:09,095] Trial 109 pruned. \n",
            "[I 2023-07-03 18:38:10,337] Trial 110 pruned. \n",
            "[I 2023-07-03 18:38:11,663] Trial 111 pruned. \n",
            "[I 2023-07-03 18:38:12,999] Trial 112 pruned. \n",
            "[I 2023-07-03 18:38:14,343] Trial 113 pruned. \n",
            "[I 2023-07-03 18:38:23,020] Trial 114 finished with value: 0.04765625 and parameters: {'dropout_l0': 0.23885148451668886, 'dropout_l1': 0.232595511315457, 'lr': 4.2880204469748813e-05, 'n_layers': 2, 'n_units_l0': 46, 'n_units_l1': 97, 'optimizer': 'SGD'}. Best is trial 41 with value: 0.028125.\n",
            "[I 2023-07-03 18:38:31,913] Trial 115 finished with value: 0.09375 and parameters: {'dropout_l0': 0.21856491503934034, 'dropout_l1': 0.2085066024201784, 'lr': 4.381550958787371e-05, 'n_layers': 2, 'n_units_l0': 36, 'n_units_l1': 97, 'optimizer': 'SGD'}. Best is trial 41 with value: 0.028125.\n",
            "[I 2023-07-03 18:38:33,202] Trial 116 pruned. \n",
            "[I 2023-07-03 18:38:34,490] Trial 117 pruned. \n",
            "[I 2023-07-03 18:38:35,747] Trial 118 pruned. \n",
            "[I 2023-07-03 18:38:37,098] Trial 119 pruned. \n",
            "[I 2023-07-03 18:38:38,474] Trial 120 pruned. \n",
            "[I 2023-07-03 18:38:39,758] Trial 121 pruned. \n",
            "[I 2023-07-03 18:38:41,022] Trial 122 pruned. \n",
            "[I 2023-07-03 18:38:42,271] Trial 123 pruned. \n",
            "[I 2023-07-03 18:38:43,519] Trial 124 pruned. \n",
            "[I 2023-07-03 18:38:44,763] Trial 125 pruned. \n",
            "[I 2023-07-03 18:38:53,643] Trial 126 finished with value: 0.08671875 and parameters: {'dropout_l0': 0.24827615365394334, 'dropout_l1': 0.2192646242332647, 'lr': 2.2162995880188633e-05, 'n_layers': 2, 'n_units_l0': 59, 'n_units_l1': 27, 'optimizer': 'SGD'}. Best is trial 41 with value: 0.028125.\n",
            "[I 2023-07-03 18:38:55,068] Trial 127 pruned. \n",
            "[I 2023-07-03 18:38:56,326] Trial 128 pruned. \n",
            "[I 2023-07-03 18:38:57,598] Trial 129 pruned. \n",
            "[I 2023-07-03 18:38:58,882] Trial 130 pruned. \n",
            "[I 2023-07-03 18:39:07,911] Trial 131 finished with value: 0.0765625 and parameters: {'dropout_l0': 0.23176696274996422, 'dropout_l1': 0.22194619608998595, 'lr': 4.718474807197277e-05, 'n_layers': 2, 'n_units_l0': 67, 'n_units_l1': 66, 'optimizer': 'SGD'}. Best is trial 41 with value: 0.028125.\n",
            "[I 2023-07-03 18:39:16,788] Trial 132 finished with value: 0.03515625 and parameters: {'dropout_l0': 0.23127189370762874, 'dropout_l1': 0.22496476929653253, 'lr': 3.862657002342214e-05, 'n_layers': 2, 'n_units_l0': 53, 'n_units_l1': 62, 'optimizer': 'SGD'}. Best is trial 41 with value: 0.028125.\n",
            "[I 2023-07-03 18:39:18,076] Trial 133 pruned. \n",
            "[I 2023-07-03 18:39:26,836] Trial 134 finished with value: 0.07890625 and parameters: {'dropout_l0': 0.2247685560743323, 'dropout_l1': 0.20549007183848186, 'lr': 3.228371580209427e-05, 'n_layers': 2, 'n_units_l0': 44, 'n_units_l1': 56, 'optimizer': 'SGD'}. Best is trial 41 with value: 0.028125.\n",
            "[I 2023-07-03 18:39:28,230] Trial 135 pruned. \n",
            "[I 2023-07-03 18:39:29,652] Trial 136 pruned. \n",
            "[I 2023-07-03 18:39:30,944] Trial 137 pruned. \n",
            "[I 2023-07-03 18:39:39,708] Trial 138 finished with value: 0.07421875 and parameters: {'dropout_l0': 0.20917557954224003, 'dropout_l1': 0.21293493193392224, 'lr': 1.986629961890832e-05, 'n_layers': 2, 'n_units_l0': 38, 'n_units_l1': 53, 'optimizer': 'SGD'}. Best is trial 41 with value: 0.028125.\n",
            "[I 2023-07-03 18:39:48,752] Trial 139 finished with value: 0.04453125 and parameters: {'dropout_l0': 0.2057201297256051, 'dropout_l1': 0.2104260271120329, 'lr': 1.898574080510254e-05, 'n_layers': 2, 'n_units_l0': 25, 'n_units_l1': 62, 'optimizer': 'SGD'}. Best is trial 41 with value: 0.028125.\n",
            "[I 2023-07-03 18:39:50,015] Trial 140 pruned. \n",
            "[I 2023-07-03 18:39:51,283] Trial 141 pruned. \n",
            "[I 2023-07-03 18:39:52,568] Trial 142 pruned. \n",
            "[I 2023-07-03 18:40:01,446] Trial 143 finished with value: 0.0875 and parameters: {'dropout_l0': 0.20665511977996187, 'dropout_l1': 0.22092141021218079, 'lr': 1.674306597381986e-05, 'n_layers': 2, 'n_units_l0': 28, 'n_units_l1': 51, 'optimizer': 'SGD'}. Best is trial 41 with value: 0.028125.\n",
            "[I 2023-07-03 18:40:02,721] Trial 144 pruned. \n"
          ]
        }
      ]
    },
    {
      "cell_type": "markdown",
      "source": [
        "# Optunaの機械学習サンプルコード （分散並列最適化バージョン）\n",
        "ソースコード：https://github.com/optuna/optuna-examples/blob/main/pytorch/pytorch_distributed_simple.py\n",
        "\n",
        "FashionMNISTのクラス分類\n",
        "モデルはMLPを使用\n",
        "\n",
        "探索パラメータ:\n",
        "- モデルのレイヤー数 1~3\n",
        "- 各層のユニット数 4~128\n",
        "- 各層のドロップアウト率 0.2~0.5\n",
        "- 学習率 1e-5 ~ 1e-1\n",
        "- Optimizer [Adam, RMSprop, SGD]\n",
        "\n",
        "実行トライアル数 500\n",
        "\n",
        "**optuna.integration.TorchDistributedTrial**\n",
        "https://optuna.readthedocs.io/en/stable/reference/generated/optuna.integration.TorchDistributedTrial.html"
      ],
      "metadata": {
        "id": "mHF4Kk_4-W-R"
      }
    }
  ]
}