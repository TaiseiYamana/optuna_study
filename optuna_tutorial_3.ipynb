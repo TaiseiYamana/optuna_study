{
  "nbformat": 4,
  "nbformat_minor": 0,
  "metadata": {
    "colab": {
      "provenance": [],
      "authorship_tag": "ABX9TyPKTmSS7bfOLWR74WaB5arx",
      "include_colab_link": true
    },
    "kernelspec": {
      "name": "python3",
      "display_name": "Python 3"
    },
    "language_info": {
      "name": "python"
    }
  },
  "cells": [
    {
      "cell_type": "markdown",
      "metadata": {
        "id": "view-in-github",
        "colab_type": "text"
      },
      "source": [
        "<a href=\"https://colab.research.google.com/github/TaiseiYamana/optuna_study/blob/main/optuna_tutorial_3.ipynb\" target=\"_parent\"><img src=\"https://colab.research.google.com/assets/colab-badge.svg\" alt=\"Open In Colab\"/></a>"
      ]
    },
    {
      "cell_type": "markdown",
      "source": [
        "# Optuna チュートリアル3\n",
        "\n",
        "## 参考本\n",
        "https://www.ohmsha.co.jp/book/9784274230103/\n",
        "## GitHub\n",
        "https://github.com/pfnet-research/optuna-book"
      ],
      "metadata": {
        "id": "NC7S8LpZls9Z"
      }
    },
    {
      "cell_type": "code",
      "execution_count": null,
      "metadata": {
        "colab": {
          "base_uri": "https://localhost:8080/"
        },
        "id": "gb3rvNH5rp0q",
        "outputId": "2fb3714a-e6cf-465c-d271-06aa8af1ff99"
      },
      "outputs": [
        {
          "output_type": "stream",
          "name": "stdout",
          "text": [
            "Collecting optuna\n",
            "  Using cached optuna-3.2.0-py3-none-any.whl (390 kB)\n",
            "Collecting alembic>=1.5.0 (from optuna)\n",
            "  Using cached alembic-1.11.1-py3-none-any.whl (224 kB)\n",
            "Collecting cmaes>=0.9.1 (from optuna)\n",
            "  Using cached cmaes-0.9.1-py3-none-any.whl (21 kB)\n",
            "Collecting colorlog (from optuna)\n",
            "  Using cached colorlog-6.7.0-py2.py3-none-any.whl (11 kB)\n",
            "Requirement already satisfied: numpy in /usr/local/lib/python3.10/dist-packages (from optuna) (1.22.4)\n",
            "Requirement already satisfied: packaging>=20.0 in /usr/local/lib/python3.10/dist-packages (from optuna) (23.1)\n",
            "Requirement already satisfied: sqlalchemy>=1.3.0 in /usr/local/lib/python3.10/dist-packages (from optuna) (2.0.16)\n",
            "Requirement already satisfied: tqdm in /usr/local/lib/python3.10/dist-packages (from optuna) (4.65.0)\n",
            "Requirement already satisfied: PyYAML in /usr/local/lib/python3.10/dist-packages (from optuna) (6.0)\n",
            "Collecting Mako (from alembic>=1.5.0->optuna)\n",
            "  Using cached Mako-1.2.4-py3-none-any.whl (78 kB)\n",
            "Requirement already satisfied: typing-extensions>=4 in /usr/local/lib/python3.10/dist-packages (from alembic>=1.5.0->optuna) (4.6.3)\n",
            "Requirement already satisfied: greenlet!=0.4.17 in /usr/local/lib/python3.10/dist-packages (from sqlalchemy>=1.3.0->optuna) (2.0.2)\n",
            "Requirement already satisfied: MarkupSafe>=0.9.2 in /usr/local/lib/python3.10/dist-packages (from Mako->alembic>=1.5.0->optuna) (2.1.3)\n",
            "Installing collected packages: Mako, colorlog, cmaes, alembic, optuna\n",
            "Successfully installed Mako-1.2.4 alembic-1.11.1 cmaes-0.9.1 colorlog-6.7.0 optuna-3.2.0\n"
          ]
        }
      ],
      "source": [
        "!pip3 install optuna"
      ]
    },
    {
      "cell_type": "markdown",
      "source": [
        "# 分散並列最適化\n"
      ],
      "metadata": {
        "id": "AYtd3CE5rxkV"
      }
    },
    {
      "cell_type": "markdown",
      "source": [
        "大規模な機械学習モデルを学習する場合は、1回のトライアルにかかる時間が長くなります。  \n",
        "そのような時はハイパーパラメータの最適化を並列化したい場合があります。\n",
        "\n",
        "Optunaを用いると、分散並列ハイパーパラメータ最適化を簡単に行う事ができます。   \n",
        "Optunaの一般の分散並列最適化はRDBを用いるため、GoogleColabでは簡易的にできません。  \n",
        "実行可能な環境で以下手順を実施してください。  \n",
        "引用ノートブック：https://github.com/pfnet-research/optuna-hands-on/blob/master/ja/02_Optuna_Advanced_Tutorial_ja.ipynb"
      ],
      "metadata": {
        "id": "r5bTkG9WKWIR"
      }
    },
    {
      "cell_type": "markdown",
      "source": [
        "## Optunaの分散並列最適化の仕組み\n",
        "\n",
        "全ての最適化履歴は、MySQLやPostgreSQLなどのRDB等の共有のストレージに保存されます。  \n",
        "そして、実際に最適化を実行する複数のワーカーは、それぞれが独立にこのストレージにアクセスします。\n",
        "そのため任意のワーカーを追加可能で中断ができます。またワーカー間の競合は、Optunaが管理をしてくれるのでユーザは気を遣う必要がありません。\n"
      ],
      "metadata": {
        "id": "KWON9lKqLMQR"
      }
    },
    {
      "cell_type": "code",
      "source": [
        "import optuna\n",
        "\n",
        "import torch\n",
        "import torch.nn as nn\n",
        "import torch.optim as optim\n",
        "from torchvision.datasets import MNIST\n",
        "\n",
        "import sys"
      ],
      "metadata": {
        "id": "IUde56Ikr9i0"
      },
      "execution_count": null,
      "outputs": []
    },
    {
      "cell_type": "code",
      "source": [
        "device = torch.device('cuda' if torch.cuda.is_available() else 'cpu') # あればGPUを使う\n",
        "\n",
        "# データを読み込む (今回はデータが少ないので、全てメモリ上に入れる)\n",
        "# 訓練用データセット\n",
        "train = MNIST(root='./data', download=True, train=True)\n",
        "train_X = train.data.to(device).to(torch.float32) # 60000x28x28\n",
        "train_y = train.targets.to(device) # 60000\n",
        "\n",
        "# 評価用データセット\n",
        "validation = MNIST(root='./data', download=True, train=False)\n",
        "validation_X = validation.data.to(device).to(torch.float32) # 10000x28x28\n",
        "validation_y = validation.targets.to(device) # 10000"
      ],
      "metadata": {
        "colab": {
          "base_uri": "https://localhost:8080/"
        },
        "id": "ypbltnnrsO01",
        "outputId": "358d3141-7ed3-47ed-c955-dabbff47c510"
      },
      "execution_count": null,
      "outputs": [
        {
          "output_type": "stream",
          "name": "stderr",
          "text": [
            "<ipython-input-11-94271d1de426>:1: ExperimentalWarning: JournalStorage is experimental (supported from v3.1.0). The interface can change in the future.\n",
            "  strage = optuna.storages.JournalStorage(optuna.storages.JournalFileStorage(\"./mnist_study.optuna\"))\n"
          ]
        }
      ]
    },
    {
      "cell_type": "code",
      "source": [],
      "metadata": {
        "id": "0p9a7aID7Myg"
      },
      "execution_count": null,
      "outputs": []
    }
  ]
}