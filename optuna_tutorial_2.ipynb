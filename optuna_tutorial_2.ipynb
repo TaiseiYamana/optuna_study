{
  "nbformat": 4,
  "nbformat_minor": 0,
  "metadata": {
    "colab": {
      "provenance": [],
      "authorship_tag": "ABX9TyN9b9ZnOfeH0/C+cQAuv1tw",
      "include_colab_link": true
    },
    "kernelspec": {
      "name": "python3",
      "display_name": "Python 3"
    },
    "language_info": {
      "name": "python"
    }
  },
  "cells": [
    {
      "cell_type": "markdown",
      "metadata": {
        "id": "view-in-github",
        "colab_type": "text"
      },
      "source": [
        "<a href=\"https://colab.research.google.com/github/TaiseiYamana/optuna_study/blob/main/optuna_tutorial_2.ipynb\" target=\"_parent\"><img src=\"https://colab.research.google.com/assets/colab-badge.svg\" alt=\"Open In Colab\"/></a>"
      ]
    },
    {
      "cell_type": "markdown",
      "source": [
        "# Optuna チュートリアル2\n",
        "\n",
        "## 参考本\n",
        "https://www.ohmsha.co.jp/book/9784274230103/\n",
        "## GitHub\n",
        "https://github.com/pfnet-research/optuna-book"
      ],
      "metadata": {
        "id": "puExs7UMt0im"
      }
    },
    {
      "cell_type": "code",
      "execution_count": null,
      "metadata": {
        "colab": {
          "base_uri": "https://localhost:8080/"
        },
        "id": "1MmDMBROtqmq",
        "outputId": "39c79d2e-788e-4561-cae5-8daf876c65ed"
      },
      "outputs": [
        {
          "output_type": "stream",
          "name": "stdout",
          "text": [
            "Collecting optuna\n",
            "  Downloading optuna-3.2.0-py3-none-any.whl (390 kB)\n",
            "\u001b[2K     \u001b[90m━━━━━━━━━━━━━━━━━━━━━━━━━━━━━━━━━━━━━━━\u001b[0m \u001b[32m390.6/390.6 kB\u001b[0m \u001b[31m6.8 MB/s\u001b[0m eta \u001b[36m0:00:00\u001b[0m\n",
            "\u001b[?25hCollecting alembic>=1.5.0 (from optuna)\n",
            "  Downloading alembic-1.11.1-py3-none-any.whl (224 kB)\n",
            "\u001b[2K     \u001b[90m━━━━━━━━━━━━━━━━━━━━━━━━━━━━━━━━━━━━━━\u001b[0m \u001b[32m224.5/224.5 kB\u001b[0m \u001b[31m20.6 MB/s\u001b[0m eta \u001b[36m0:00:00\u001b[0m\n",
            "\u001b[?25hCollecting cmaes>=0.9.1 (from optuna)\n",
            "  Downloading cmaes-0.9.1-py3-none-any.whl (21 kB)\n",
            "Collecting colorlog (from optuna)\n",
            "  Downloading colorlog-6.7.0-py2.py3-none-any.whl (11 kB)\n",
            "Requirement already satisfied: numpy in /usr/local/lib/python3.10/dist-packages (from optuna) (1.22.4)\n",
            "Requirement already satisfied: packaging>=20.0 in /usr/local/lib/python3.10/dist-packages (from optuna) (23.1)\n",
            "Requirement already satisfied: sqlalchemy>=1.3.0 in /usr/local/lib/python3.10/dist-packages (from optuna) (2.0.16)\n",
            "Requirement already satisfied: tqdm in /usr/local/lib/python3.10/dist-packages (from optuna) (4.65.0)\n",
            "Requirement already satisfied: PyYAML in /usr/local/lib/python3.10/dist-packages (from optuna) (6.0)\n",
            "Collecting Mako (from alembic>=1.5.0->optuna)\n",
            "  Downloading Mako-1.2.4-py3-none-any.whl (78 kB)\n",
            "\u001b[2K     \u001b[90m━━━━━━━━━━━━━━━━━━━━━━━━━━━━━━━━━━━━━━━━\u001b[0m \u001b[32m78.7/78.7 kB\u001b[0m \u001b[31m9.1 MB/s\u001b[0m eta \u001b[36m0:00:00\u001b[0m\n",
            "\u001b[?25hRequirement already satisfied: typing-extensions>=4 in /usr/local/lib/python3.10/dist-packages (from alembic>=1.5.0->optuna) (4.6.3)\n",
            "Requirement already satisfied: greenlet!=0.4.17 in /usr/local/lib/python3.10/dist-packages (from sqlalchemy>=1.3.0->optuna) (2.0.2)\n",
            "Requirement already satisfied: MarkupSafe>=0.9.2 in /usr/local/lib/python3.10/dist-packages (from Mako->alembic>=1.5.0->optuna) (2.1.3)\n",
            "Installing collected packages: Mako, colorlog, cmaes, alembic, optuna\n",
            "Successfully installed Mako-1.2.4 alembic-1.11.1 cmaes-0.9.1 colorlog-6.7.0 optuna-3.2.0\n"
          ]
        }
      ],
      "source": [
        "!pip3 install optuna"
      ]
    },
    {
      "cell_type": "markdown",
      "source": [
        "# 多目的最適化\n",
        "多目的最適化は最適化する評価値が2つ以上ある最適化です。  \n",
        "例として以下の数式$f_1, f_2$の最適化をしましょう。\n",
        "<br />\n",
        "<br />\n",
        "$f_1(x,y) = 4x^2+4y~2$\n",
        "\n",
        "$f_2(x,y)=(x-5)^2 + (y -5)^2$\n",
        "\n",
        "$(0 \\le x \\le 5, 0 \\le y \\le 3)$\n",
        "<br />\n",
        "<br />\n",
        "$f_1$を最小化、$f_2$を最大化する$(x,y)$の探索\n"
      ],
      "metadata": {
        "id": "OVg9RGetuY0D"
      }
    },
    {
      "cell_type": "code",
      "source": [
        "# Optunaをインポート\n",
        "import optuna\n",
        "\n",
        "\n",
        "# 目的関数を定義\n",
        "def f1(x, y):\n",
        "    return 4 * x**2 + 4 * y**2\n",
        "\n",
        "def f2(x, y):\n",
        "    return (x - 5)**2 + (y - 5)**2\n",
        "\n",
        "def objective(trial): # 引数に　trial を指定\n",
        "    # サジェストAPIで目的関数への入力を定案\n",
        "    x = trial.suggest_float(\"x\", 0, 5)\n",
        "    y = trial.suggest_float(\"y\", 0, 3)\n",
        "\n",
        "    v1 = f1(x, y)\n",
        "    v2 = f2(x, y)\n",
        "\n",
        "    # 変更点1: 目的関数が複数の値を返す\n",
        "    return v1, v2\n",
        "\n",
        "# 最適化を実行\n",
        "study = optuna.create_study(\n",
        "    # 変更点2: 目的ごとに最適化の方向を指定\n",
        "    directions=[\"minimize\", \"minimize\"]\n",
        ")\n",
        "study.optimize(objective, n_trials=100)\n",
        "\n",
        "# 最適化の結果を確認\n",
        "print(\"[Best Trials]\")\n",
        "# 変更点3: Study.best_trialのかわりにStudy.best_trialsを使用\n",
        "for trial in study.best_trials:\n",
        "    # 変更点4: FrozenTrial.valueのかわりにFrozenTrial.valuesを使用\n",
        "    print(f\"- [{trial.number}] params={trial.params}, values={trial.values}\")"
      ],
      "metadata": {
        "colab": {
          "base_uri": "https://localhost:8080/"
        },
        "id": "AQ5KZ-pHt7jr",
        "outputId": "8b8449e0-dfe1-4bae-b491-e2f06f5b36fe"
      },
      "execution_count": null,
      "outputs": [
        {
          "output_type": "stream",
          "name": "stderr",
          "text": [
            "[I 2023-07-01 09:25:42,165] A new study created in memory with name: no-name-9353233f-73f0-414f-ba46-1be5fd32d913\n",
            "[I 2023-07-01 09:25:42,172] Trial 0 finished with values: [36.60391845743548, 19.636552119108025] and parameters: {'x': 1.155956252007344, 'y': 2.7954864975177407}. \n",
            "[I 2023-07-01 09:25:42,177] Trial 1 finished with values: [38.15248079430721, 18.297138148693453] and parameters: {'x': 1.3430125261008663, 'y': 2.7810856788874685}. \n",
            "[I 2023-07-01 09:25:42,180] Trial 2 finished with values: [81.50848273093757, 7.154938723055755] and parameters: {'x': 3.6037710593160623, 'y': 2.7184471366518013}. \n",
            "[I 2023-07-01 09:25:42,186] Trial 3 finished with values: [33.0556626581202, 20.467896541264956] and parameters: {'x': 1.1410618972452142, 'y': 2.638540015081295}. \n",
            "[I 2023-07-01 09:25:42,191] Trial 4 finished with values: [47.27451923709951, 22.40663843444525] and parameters: {'x': 3.393994188765502, 'y': 0.5472049487174608}. \n",
            "[I 2023-07-01 09:25:42,194] Trial 5 finished with values: [74.39471955622412, 25.19256642614352] and parameters: {'x': 4.31252723723276, 'y': 0.02808410905849057}. \n",
            "[I 2023-07-01 09:25:42,198] Trial 6 finished with values: [25.89664311804739, 22.898100659538105] and parameters: {'x': 1.03173202318019, 'y': 2.325873988817184}. \n",
            "[I 2023-07-01 09:25:42,201] Trial 7 finished with values: [13.667009304129664, 28.726769315588403] and parameters: {'x': 1.663903401055626, 'y': 0.8050948999887756}. \n",
            "[I 2023-07-01 09:25:42,204] Trial 8 finished with values: [88.87747054360949, 9.858960477455126] and parameters: {'x': 4.29599865378901, 'y': 1.9400420620557153}. \n",
            "[I 2023-07-01 09:25:42,209] Trial 9 finished with values: [43.78324223488003, 19.651884329578813] and parameters: {'x': 3.1646665023329836, 'y': 0.9647261205811357}. \n",
            "[I 2023-07-01 09:25:42,213] Trial 10 finished with values: [13.572733017645493, 33.902475557229685] and parameters: {'x': 0.11031758195101993, 'y': 1.8387531877671492}. \n",
            "[I 2023-07-01 09:25:42,215] Trial 11 finished with values: [11.95324405442933, 28.90962686667369] and parameters: {'x': 1.415353059827209, 'y': 0.9925153548661548}. \n",
            "[I 2023-07-01 09:25:42,219] Trial 12 finished with values: [77.52467439495517, 9.475566305812633] and parameters: {'x': 3.8431488156689344, 'y': 2.1474114136236815}. \n",
            "[I 2023-07-01 09:25:42,223] Trial 13 finished with values: [123.82062806087393, 5.843763170613275] and parameters: {'x': 4.9274377711584085, 'y': 2.5837016133021122}. \n",
            "[I 2023-07-01 09:25:42,226] Trial 14 finished with values: [73.93980364890952, 18.47662453875913] and parameters: {'x': 4.229691799742114, 'y': 0.7711408376047105}. \n",
            "[I 2023-07-01 09:25:42,230] Trial 15 finished with values: [7.878580629754417, 32.12975204623952] and parameters: {'x': 0.9642605238845281, 'y': 1.0197287872353804}. \n",
            "[I 2023-07-01 09:25:42,233] Trial 16 finished with values: [15.679925731269226, 26.320770255039868] and parameters: {'x': 1.615968127241596, 'y': 1.1439529905361476}. \n",
            "[I 2023-07-01 09:25:42,236] Trial 17 finished with values: [48.34297477507521, 22.467821261124033] and parameters: {'x': 3.436548003844039, 'y': 0.5252442394204377}. \n",
            "[I 2023-07-01 09:25:42,239] Trial 18 finished with values: [89.68299404242576, 24.470433215068063] and parameters: {'x': 4.734670533496647, 'y': 0.060360996057190475}. \n",
            "[I 2023-07-01 09:25:42,247] Trial 19 finished with values: [38.38359353402587, 23.544923170641827] and parameters: {'x': 3.0470435003897616, 'y': 0.5580540208967024}. \n",
            "[I 2023-07-01 09:25:42,252] Trial 20 finished with values: [19.765226874266958, 23.59109736001936] and parameters: {'x': 1.683976309363779, 'y': 1.4510446264909587}. \n",
            "[I 2023-07-01 09:25:42,254] Trial 21 finished with values: [18.653573981399703, 26.31135079929755] and parameters: {'x': 0.8500627660553739, 'y': 1.9851415035498634}. \n",
            "[I 2023-07-01 09:25:42,258] Trial 22 finished with values: [56.38611045423347, 14.423785026843024] and parameters: {'x': 3.4216192275465875, 'y': 1.5456550311249466}. \n",
            "[I 2023-07-01 09:25:42,260] Trial 23 finished with values: [27.702394485405097, 26.560791601766272] and parameters: {'x': 0.4422545019393842, 'y': 2.594226200019116}. \n",
            "[I 2023-07-01 09:25:42,264] Trial 24 finished with values: [43.59682203787774, 20.325064989751233] and parameters: {'x': 3.1836747993242493, 'y': 0.8737392526475714}. \n",
            "[I 2023-07-01 09:25:42,266] Trial 25 finished with values: [27.12217519232651, 20.308986192475217] and parameters: {'x': 2.078206263602265, 'y': 1.5689494969583757}. \n",
            "[I 2023-07-01 09:25:42,269] Trial 26 finished with values: [39.546678716068314, 16.24450270935633] and parameters: {'x': 1.7558009535329027, 'y': 2.6084157434331723}. \n",
            "[I 2023-07-01 09:25:42,273] Trial 27 finished with values: [9.470820192332699, 33.28017218496681] and parameters: {'x': 0.43186564131928395, 'y': 1.476887644992353}. \n",
            "[I 2023-07-01 09:25:42,275] Trial 28 finished with values: [71.50605951837802, 14.240129894716068] and parameters: {'x': 4.003221138973924, 'y': 1.36041735951392}. \n",
            "[I 2023-07-01 09:25:42,277] Trial 29 finished with values: [36.13459197029552, 20.097217852451656] and parameters: {'x': 2.799294389944562, 'y': 1.0943486240676596}. \n",
            "[I 2023-07-01 09:25:42,280] Trial 30 finished with values: [23.843647435818866, 22.567930464071154] and parameters: {'x': 2.1086569436824014, 'y': 1.2306411958059549}. \n",
            "[I 2023-07-01 09:25:42,282] Trial 31 finished with values: [23.98255208494225, 27.279606163682658] and parameters: {'x': 0.46817935434248337, 'y': 2.403423831412807}. \n",
            "[I 2023-07-01 09:25:42,284] Trial 32 finished with values: [2.1231330572456124, 41.12456143763743] and parameters: {'x': 0.6805469339586112, 'y': 0.26007524870878573}. \n",
            "[I 2023-07-01 09:25:42,287] Trial 33 finished with values: [28.563154953368223, 25.978712612186868] and parameters: {'x': 2.627078501022419, 'y': 0.48912911159309924}. \n",
            "[I 2023-07-01 09:25:42,290] Trial 34 finished with values: [9.360830980781984, 31.82304223615285] and parameters: {'x': 0.6827567288451181, 'y': 1.3689598220591463}. \n",
            "[I 2023-07-01 09:25:42,292] Trial 35 finished with values: [54.618869887908886, 22.563164117979] and parameters: {'x': 3.6689101437956517, 'y': 0.44024519160417064}. \n",
            "[I 2023-07-01 09:25:42,294] Trial 36 finished with values: [87.34512038079582, 19.51286446818706] and parameters: {'x': 4.6345341010744985, 'y': 0.597807461626691}. \n",
            "[I 2023-07-01 09:25:42,296] Trial 37 finished with values: [53.732488184259246, 13.474691309010984] and parameters: {'x': 3.1885364938004064, 'y': 1.8073065799049766}. \n",
            "[I 2023-07-01 09:25:42,299] Trial 38 finished with values: [28.02315596703208, 23.60980100974644] and parameters: {'x': 2.515177694683305, 'y': 0.8244211035178534}. \n",
            "[I 2023-07-01 09:25:42,304] Trial 39 finished with values: [32.59655036190985, 22.54476053287588] and parameters: {'x': 2.731738495919079, 'y': 0.828699209841079}. \n",
            "[I 2023-07-01 09:25:42,306] Trial 40 finished with values: [55.30520939024439, 13.341973726089709] and parameters: {'x': 3.2600714323331657, 'y': 1.7883614298139734}. \n",
            "[I 2023-07-01 09:25:42,308] Trial 41 finished with values: [2.2350336379230047, 41.522714437072565] and parameters: {'x': 0.1774776133894468, 'y': 0.7261267838513721}. \n",
            "[I 2023-07-01 09:25:42,311] Trial 42 finished with values: [23.011734842884174, 22.586707467244402] and parameters: {'x': 2.0139381492894035, 'y': 1.3026844750582605}. \n",
            "[I 2023-07-01 09:25:42,313] Trial 43 finished with values: [58.17809868891574, 25.339318084541965] and parameters: {'x': 3.8121895335269995, 'y': 0.10833112524169808}. \n",
            "[I 2023-07-01 09:25:42,318] Trial 44 finished with values: [88.19339305656996, 24.865328118302887] and parameters: {'x': 4.695511565267671, 'y': 0.022790449316289596}. \n",
            "[I 2023-07-01 09:25:42,320] Trial 45 finished with values: [7.362954980169588, 32.699083753224954] and parameters: {'x': 0.8910374397136817, 'y': 1.023128059468063}. \n",
            "[I 2023-07-01 09:25:42,322] Trial 46 finished with values: [59.626823920168945, 20.632554094689667] and parameters: {'x': 3.8114721817782375, 'y': 0.6159430067570191}. \n",
            "[I 2023-07-01 09:25:42,326] Trial 47 finished with values: [36.83632215136291, 16.74621309203858] and parameters: {'x': 1.812012387621344, 'y': 2.4342743569588707}. \n",
            "[I 2023-07-01 09:25:42,328] Trial 48 finished with values: [56.97922120191599, 11.884805662105794] and parameters: {'x': 3.1361493280664616, 'y': 2.0998506357708586}. \n",
            "[I 2023-07-01 09:25:42,331] Trial 49 finished with values: [49.00462326862376, 17.796008416017017] and parameters: {'x': 3.3113011599136053, 'y': 1.1342135802002873}. \n",
            "[I 2023-07-01 09:25:42,369] Trial 50 finished with values: [85.37375346005804, 7.0350307466637165] and parameters: {'x': 3.792300746753784, 'y': 2.638540015081295}. \n",
            "[I 2023-07-01 09:25:42,372] Trial 51 finished with values: [5.66862603906968, 35.07731452490569] and parameters: {'x': 0.6142554112507925, 'y': 1.0197287872353804}. \n",
            "[I 2023-07-01 09:25:42,376] Trial 52 finished with values: [17.052256636633228, 27.79652043881783] and parameters: {'x': 0.7066123099783322, 'y': 1.9400420620557153}. \n",
            "[I 2023-07-01 09:25:42,381] Trial 53 finished with values: [44.38454580935366, 13.989240633747588] and parameters: {'x': 2.3758177489542893, 'y': 2.3348718329047933}. \n",
            "[I 2023-07-01 09:25:42,384] Trial 54 finished with values: [22.255357880989884, 22.401916963099524] and parameters: {'x': 1.4774390629476457, 'y': 1.8387531877671492}. \n",
            "[I 2023-07-01 09:25:42,388] Trial 55 finished with values: [47.08850122097277, 18.475338986415363] and parameters: {'x': 3.2600714323331657, 'y': 1.0696071995496172}. \n",
            "[I 2023-07-01 09:25:42,391] Trial 56 finished with values: [51.87690766158441, 16.020651206364867] and parameters: {'x': 3.3344402113892038, 'y': 1.36041735951392}. \n",
            "[I 2023-07-01 09:25:42,396] Trial 57 finished with values: [38.11212790178182, 20.99985346866603] and parameters: {'x': 0.9002682721646238, 'y': 2.952549578513319}. \n",
            "[I 2023-07-01 09:25:42,399] Trial 58 finished with values: [7.434301581939251, 37.36896386248737] and parameters: {'x': 0.08854379378582466, 'y': 1.36041735951392}. \n",
            "[I 2023-07-01 09:25:42,403] Trial 59 finished with values: [18.741365750226763, 28.710957239342015] and parameters: {'x': 2.1086569436824014, 'y': 0.488781476139066}. \n",
            "[I 2023-07-01 09:25:42,406] Trial 60 finished with values: [94.64041379981387, 12.545885989284955] and parameters: {'x': 4.6345341010744985, 'y': 1.476887644992353}. \n",
            "[I 2023-07-01 09:25:42,410] Trial 61 finished with values: [78.46687530205624, 22.80162512369914] and parameters: {'x': 4.421434121472706, 'y': 0.26007524870878573}. \n",
            "[I 2023-07-01 09:25:42,414] Trial 62 finished with values: [77.19273708419973, 15.809915318445949] and parameters: {'x': 4.254478271192738, 'y': 1.0943486240676596}. \n",
            "[I 2023-07-01 09:25:42,417] Trial 63 finished with values: [73.88458776390851, 7.729409776247482] and parameters: {'x': 3.14514649924929, 'y': 2.9290272172236747}. \n",
            "[I 2023-07-01 09:25:42,422] Trial 64 finished with values: [3.162987321630747, 39.39382267251473] and parameters: {'x': 0.30404794877331165, 'y': 0.8356444670159843}. \n",
            "[I 2023-07-01 09:25:42,425] Trial 65 finished with values: [81.50848273093757, 7.154938723055755] and parameters: {'x': 3.6037710593160623, 'y': 2.7184471366518013}. \n",
            "[I 2023-07-01 09:25:42,429] Trial 66 finished with values: [22.113465890548177, 31.787092147673018] and parameters: {'x': 0.022991995998314363, 'y': 2.3511354364980885}. \n",
            "[I 2023-07-01 09:25:42,433] Trial 67 finished with values: [11.080543428013973, 35.735965292960444] and parameters: {'x': 1.663903401055626, 'y': 0.03951365534867879}. \n",
            "[I 2023-07-01 09:25:42,437] Trial 68 finished with values: [51.73786831731077, 15.14691195412788] and parameters: {'x': 3.2600714323331657, 'y': 1.5186840801868158}. \n",
            "[I 2023-07-01 09:25:42,441] Trial 69 finished with values: [27.702394485405097, 26.560791601766272] and parameters: {'x': 0.4422545019393842, 'y': 2.594226200019116}. \n",
            "[I 2023-07-01 09:25:42,444] Trial 70 finished with values: [48.34297477507521, 22.467821261124033] and parameters: {'x': 3.436548003844039, 'y': 0.5252442394204377}. \n",
            "[I 2023-07-01 09:25:42,448] Trial 71 finished with values: [58.14069879802998, 19.486765227917378] and parameters: {'x': 3.733700109554301, 'y': 0.7711408376047105}. \n",
            "[I 2023-07-01 09:25:42,452] Trial 72 finished with values: [32.111969790850964, 18.59463621956186] and parameters: {'x': 1.615968127241596, 'y': 2.327367495573492}. \n",
            "[I 2023-07-01 09:25:42,455] Trial 73 finished with values: [33.754315229339326, 19.107660165454572] and parameters: {'x': 2.559830434362449, 'y': 1.373261429825577}. \n",
            "[I 2023-07-01 09:25:42,458] Trial 74 finished with values: [14.183503673548756, 29.183169990417714] and parameters: {'x': 1.7558009535329027, 'y': 0.6804696392640444}. \n",
            "[I 2023-07-01 09:25:42,466] Trial 75 finished with values: [56.86720449172705, 11.633716558717538] and parameters: {'x': 3.0718150529372967, 'y': 2.1864934034841257}. \n",
            "[I 2023-07-01 09:25:42,471] Trial 76 finished with values: [6.55988000182775, 37.18264011267472] and parameters: {'x': 0.1774776133894468, 'y': 1.2682553753887753}. \n",
            "[I 2023-07-01 09:25:42,475] Trial 77 finished with values: [0.26361929032958686, 46.43622924861086] and parameters: {'x': 0.1774776133894468, 'y': 0.18548994400770835}. \n",
            "[I 2023-07-01 09:25:42,478] Trial 78 finished with values: [17.803006681931716, 32.707100477488304] and parameters: {'x': 2.1086569436824014, 'y': 0.0657081756170611}. \n",
            "[I 2023-07-01 09:25:42,482] Trial 79 finished with values: [77.80802200572343, 22.823572668406175] and parameters: {'x': 4.402768034593683, 'y': 0.26007524870878573}. \n",
            "[I 2023-07-01 09:25:42,485] Trial 80 finished with values: [51.620308197261146, 17.74539853317281] and parameters: {'x': 3.4216192275465875, 'y': 1.0943486240676596}. \n",
            "[I 2023-07-01 09:25:42,489] Trial 81 finished with values: [21.605958311062295, 22.716331170202302] and parameters: {'x': 1.4612092608513505, 'y': 1.8073065799049766}. \n",
            "[I 2023-07-01 09:25:42,492] Trial 82 finished with values: [47.00803588930464, 13.272806230072728] and parameters: {'x': 2.444496442812536, 'y': 2.403423831412807}. \n",
            "[I 2023-07-01 09:25:42,503] Trial 83 finished with values: [36.84490054143565, 18.868299355730052] and parameters: {'x': 2.7497672117838485, 'y': 1.2845253661790377}. \n",
            "[I 2023-07-01 09:25:42,506] Trial 84 finished with values: [38.02432653562727, 17.08858505700274] and parameters: {'x': 1.615968127241596, 'y': 2.625781530448812}. \n",
            "[I 2023-07-01 09:25:42,510] Trial 85 finished with values: [4.6226210363766755, 36.07148917613591] and parameters: {'x': 0.8490632644895507, 'y': 0.6593533438062752}. \n",
            "[I 2023-07-01 09:25:42,513] Trial 86 finished with values: [30.21307912515782, 19.163166126406843] and parameters: {'x': 1.615968127241596, 'y': 2.2230422382466655}. \n",
            "[I 2023-07-01 09:25:42,517] Trial 87 finished with values: [22.017372127496564, 22.702866856799787] and parameters: {'x': 1.889732411203432, 'y': 1.3904152063040036}. \n",
            "[I 2023-07-01 09:25:42,521] Trial 88 finished with values: [11.071591076505596, 30.579972695659666] and parameters: {'x': 1.5007897090334965, 'y': 0.7180027983131764}. \n",
            "[I 2023-07-01 09:25:42,524] Trial 89 finished with values: [7.848694862533013, 32.964753142883815] and parameters: {'x': 0.6691008614689886, 'y': 1.2306411958059549}. \n",
            "[I 2023-07-01 09:25:42,527] Trial 90 finished with values: [5.619063624122988, 39.13826396953893] and parameters: {'x': 0.042172508963448374, 'y': 1.184477684685733}. \n",
            "[I 2023-07-01 09:25:42,531] Trial 91 finished with values: [65.50824982244025, 9.159106367912125] and parameters: {'x': 2.799294389944562, 'y': 2.9225012188252317}. \n",
            "[I 2023-07-01 09:25:42,534] Trial 92 finished with values: [48.044492874268755, 16.236439411350105] and parameters: {'x': 3.1646665023329836, 'y': 1.4128018783887248}. \n",
            "[I 2023-07-01 09:25:42,537] Trial 93 finished with values: [121.47511203346258, 4.5676069081876385] and parameters: {'x': 4.695511565267671, 'y': 2.88460554475013}. \n",
            "[I 2023-07-01 09:25:42,540] Trial 94 finished with values: [49.855550573793984, 17.955108714565355] and parameters: {'x': 3.3565292688206543, 'y': 1.0943486240676596}. \n",
            "[I 2023-07-01 09:25:42,543] Trial 95 finished with values: [39.917615201238604, 21.239728111540327] and parameters: {'x': 3.0495464653590796, 'y': 0.8244211035178534}. \n",
            "[I 2023-07-01 09:25:42,550] Trial 96 finished with values: [33.352029340818326, 18.273179189124036] and parameters: {'x': 2.3982446119301057, 'y': 1.6082382026779487}. \n",
            "[I 2023-07-01 09:25:42,554] Trial 97 finished with values: [100.51632262944989, 6.3360218592755855] and parameters: {'x': 4.29599865378901, 'y': 2.583307226019679}. \n",
            "[I 2023-07-01 09:25:42,558] Trial 98 finished with values: [28.94018993491914, 22.341157501483256] and parameters: {'x': 0.9873538580319202, 'y': 2.5020351401927328}. \n",
            "[I 2023-07-01 09:25:42,561] Trial 99 finished with values: [6.258804404067279, 33.887503303515906] and parameters: {'x': 0.8500627660553739, 'y': 0.9176570136947172}. \n"
          ]
        },
        {
          "output_type": "stream",
          "name": "stdout",
          "text": [
            "[Best Trials]\n",
            "- [2] params={'x': 3.6037710593160623, 'y': 2.7184471366518013}, values=[81.50848273093757, 7.154938723055755]\n",
            "- [7] params={'x': 1.663903401055626, 'y': 0.8050948999887756}, values=[13.667009304129664, 28.726769315588403]\n",
            "- [11] params={'x': 1.415353059827209, 'y': 0.9925153548661548}, values=[11.95324405442933, 28.90962686667369]\n",
            "- [15] params={'x': 0.9642605238845281, 'y': 1.0197287872353804}, values=[7.878580629754417, 32.12975204623952]\n",
            "- [16] params={'x': 1.615968127241596, 'y': 1.1439529905361476}, values=[15.679925731269226, 26.320770255039868]\n",
            "- [20] params={'x': 1.683976309363779, 'y': 1.4510446264909587}, values=[19.765226874266958, 23.59109736001936]\n",
            "- [21] params={'x': 0.8500627660553739, 'y': 1.9851415035498634}, values=[18.653573981399703, 26.31135079929755]\n",
            "- [25] params={'x': 2.078206263602265, 'y': 1.5689494969583757}, values=[27.12217519232651, 20.308986192475217]\n",
            "- [26] params={'x': 1.7558009535329027, 'y': 2.6084157434331723}, values=[39.546678716068314, 16.24450270935633]\n",
            "- [32] params={'x': 0.6805469339586112, 'y': 0.26007524870878573}, values=[2.1231330572456124, 41.12456143763743]\n",
            "- [34] params={'x': 0.6827567288451181, 'y': 1.3689598220591463}, values=[9.360830980781984, 31.82304223615285]\n",
            "- [45] params={'x': 0.8910374397136817, 'y': 1.023128059468063}, values=[7.362954980169588, 32.699083753224954]\n",
            "- [47] params={'x': 1.812012387621344, 'y': 2.4342743569588707}, values=[36.83632215136291, 16.74621309203858]\n",
            "- [50] params={'x': 3.792300746753784, 'y': 2.638540015081295}, values=[85.37375346005804, 7.0350307466637165]\n",
            "- [51] params={'x': 0.6142554112507925, 'y': 1.0197287872353804}, values=[5.66862603906968, 35.07731452490569]\n",
            "- [53] params={'x': 2.3758177489542893, 'y': 2.3348718329047933}, values=[44.38454580935366, 13.989240633747588]\n",
            "- [54] params={'x': 1.4774390629476457, 'y': 1.8387531877671492}, values=[22.255357880989884, 22.401916963099524]\n",
            "- [63] params={'x': 3.14514649924929, 'y': 2.9290272172236747}, values=[73.88458776390851, 7.729409776247482]\n",
            "- [64] params={'x': 0.30404794877331165, 'y': 0.8356444670159843}, values=[3.162987321630747, 39.39382267251473]\n",
            "- [65] params={'x': 3.6037710593160623, 'y': 2.7184471366518013}, values=[81.50848273093757, 7.154938723055755]\n",
            "- [72] params={'x': 1.615968127241596, 'y': 2.327367495573492}, values=[32.111969790850964, 18.59463621956186]\n",
            "- [75] params={'x': 3.0718150529372967, 'y': 2.1864934034841257}, values=[56.86720449172705, 11.633716558717538]\n",
            "- [77] params={'x': 0.1774776133894468, 'y': 0.18548994400770835}, values=[0.26361929032958686, 46.43622924861086]\n",
            "- [81] params={'x': 1.4612092608513505, 'y': 1.8073065799049766}, values=[21.605958311062295, 22.716331170202302]\n",
            "- [82] params={'x': 2.444496442812536, 'y': 2.403423831412807}, values=[47.00803588930464, 13.272806230072728]\n",
            "- [85] params={'x': 0.8490632644895507, 'y': 0.6593533438062752}, values=[4.6226210363766755, 36.07148917613591]\n",
            "- [86] params={'x': 1.615968127241596, 'y': 2.2230422382466655}, values=[30.21307912515782, 19.163166126406843]\n",
            "- [87] params={'x': 1.889732411203432, 'y': 1.3904152063040036}, values=[22.017372127496564, 22.702866856799787]\n",
            "- [88] params={'x': 1.5007897090334965, 'y': 0.7180027983131764}, values=[11.071591076505596, 30.579972695659666]\n",
            "- [91] params={'x': 2.799294389944562, 'y': 2.9225012188252317}, values=[65.50824982244025, 9.159106367912125]\n",
            "- [93] params={'x': 4.695511565267671, 'y': 2.88460554475013}, values=[121.47511203346258, 4.5676069081876385]\n",
            "- [96] params={'x': 2.3982446119301057, 'y': 1.6082382026779487}, values=[33.352029340818326, 18.273179189124036]\n",
            "- [97] params={'x': 4.29599865378901, 'y': 2.583307226019679}, values=[100.51632262944989, 6.3360218592755855]\n",
            "- [99] params={'x': 0.8500627660553739, 'y': 0.9176570136947172}, values=[6.258804404067279, 33.887503303515906]\n"
          ]
        }
      ]
    },
    {
      "cell_type": "markdown",
      "source": [
        "# 探索の効率化"
      ],
      "metadata": {
        "id": "OxdhK1YvWmAV"
      }
    },
    {
      "cell_type": "markdown",
      "source": [
        "## 1: 最適化アルゴリズムの選択\n",
        "### Samperクラス\n",
        "次に評価すべきパラメータを選択するには、  \n",
        "サンプラーがパラメータの探索空間から探索点選択することで行われる。\n",
        "\n",
        "Optunaでは探索点選択を行うアルゴリズムはSamperクラスで実装されている。\n",
        "\n",
        "<br />\n",
        "\n",
        "### 探索点選択アルゴリズムの使い分け\n",
        "以下の公式ドキュメントの記載表より最適化対象で対応しているものを選択する。\n",
        "\n",
        "最もわかりやすい使い分け基準は、自分の最適化したい目的関数にかけられるトライアル数です。  \n",
        "例えば、数百トライアル程度ならばデフォルトのTPESamplerを使いますが、  \n",
        "数千トライアルを実行するときはCmaEsSanplerを利用すべきです。\n",
        "\n",
        "optuna.samplers — Optuna 3.2.0 documentation:  \n",
        "https://optuna.readthedocs.io/en/stable/reference/samplers/index.html\n",
        "\n",
        "\n",
        "|  サンプラー  |  アルゴリズム | 動作速度 | 推奨されるトライアル数 |\n",
        "| ---- | ---- | ---- | ---- |\n",
        "|  TPESampler  | ベイズ最適化 | 速い | 最大1000程度 |\n",
        "|  NSGAIISampler  | 進化計算 | 速い | 最大10000程度 |\n",
        "| BoTorchSampler | ベイズ最適化 | 遅い | 最大100程度 |\n",
        "| QMCSampler | 準モンテカルロ法 | 速い | いくらでも |\n",
        "| cmaEsSampler | 進化計算 | 速い | 最大10000程度 |\n",
        "| RandomSampler | ランダムサーチ | 速い | いくらでも |\n",
        "| GridSampler | グリッドサーチ | 速い | 組み合わせの数だけ可能 |\n",
        "\n",
        "<br />\n",
        "\n",
        "create_study()の引数で指定  \n",
        "https://optuna.readthedocs.io/en/stable/reference/generated/optuna.create_study.html  \n",
        "単目的最適化のデフォルトは***TPESampler***\n",
        "多目的最適化のデフォルトは***NGSAIISampler***  "
      ],
      "metadata": {
        "id": "2heBO6esx9-v"
      }
    },
    {
      "cell_type": "markdown",
      "source": [
        "## 2: 枝刈りによるトライアルの早期終了\n",
        "機械学習では学習時間が長く、1トライアルは設定したエポック分の総学習時間になる。  \n",
        "そのため枝切りによってハイパーパラメータ調整にかかる実行時間の短縮を行います。  \n",
        "学習途中の評価位置の変化をみて、望ましい数近いが得られる見込みがない場合は\n",
        "途中で学習を打ち切ります。  \n",
        "Optunaでは枝切りを自動的に行うことができます。\n",
        "\n",
        "<br />\n",
        "\n",
        "### 枝切りの手順\n",
        "目的関数の最後に次の手順を追加します。\n",
        "1.  traial.reportで中間評価値を報告\n",
        "2.  trial.should_runeで枝刈りを行うべきかの判定\n",
        "\n",
        "```python\n",
        "# 1. 中間評価値を報告\n",
        "trial.report(accuracy, epoch)\n",
        "# 2. 枝刈りを売るべきか判定する\n",
        "if trial.should_prune():\n",
        "  raise optuna.exception.TrialPruned()\n",
        "```\n",
        "\n",
        "### prunerコンポーネント\n",
        "optuna.pruners — Optuna 3.2.0 documentation  \n",
        "https://optuna.readthedocs.io/en/stable/reference/pruners.html  \n",
        "\n",
        "枝刈りの機能はprunerというコンポーネントで行われる。  \n",
        "Optunaではいくつかのprunerが提供されており、\n",
        "個々のprunerで枝切りの基準が異なる。\n",
        "\n",
        "create_study()の引数で指定  \n",
        "https://optuna.readthedocs.io/en/stable/reference/generated/optuna.create_study.html  \n",
        "\n",
        "デフォルトは***BasePruner***\n",
        "\n",
        "### 機械学習における枝切り\n",
        "枝切りを適応した学習率の最適化では学習率が小さいトライアルが枝切りされやすい傾向になる。  \n",
        "そのため、枝切りを行わない方設定でprunerで***NopPruner***を用います。\n",
        "\n",
        "一方で、枝切りを多く行い、トライアル数を増やすことが性能改善につながることもよくあります。  \n",
        "結論、問題の性質に応じて適したアルゴリズムが変化するので、事前知識が必要です。"
      ],
      "metadata": {
        "id": "Wfj56eesWqpL"
      }
    },
    {
      "cell_type": "markdown",
      "source": [
        "## 3: 事前知識の適応\n",
        "実際のユースケースでは事前に良好な探索点が判明している場合があります。    \n",
        "全てをOptunaに任せるのではなく、ユーザーの事前知識を活用します。\n",
        "\n",
        "### ユーザーの事前知識\n",
        "1.  過去の論文や実験で発見され、良好だと反面しているパラメータ\n",
        "2.  最適化結果の比較対象（ライブラリのデフォルト値、既存研究や運用中のシステムにおける採用値）が使用しているパラメータ\n",
        "3. 探索空間中で特に重点的に探索したい領域\n",
        "\n",
        "### study.enqueue_trialメソッド\n",
        "enqueueメソッドを使うことによって、サンプラーに探索すべき領域のヒントを与えることができる。\n",
        "\n",
        "\n",
        "\n"
      ],
      "metadata": {
        "id": "-nHTk0y9jVyE"
      }
    },
    {
      "cell_type": "code",
      "source": [
        "def objective(trial):\n",
        "    x = trial.suggest_float(\"x\", -1, 1)\n",
        "    y = trial.suggest_float(\"y\", -1, 1)\n",
        "    return x * y\n",
        "\n",
        "study = optuna.create_study()\n",
        "\n",
        "study.enqueue_trial({\"x\": 0.5, \"y\": -0.3})\n",
        "study.enqueue_trial({\"x\": 0.9})\n",
        "\n",
        "study.optimize(objective, n_trials=3)\n",
        "for trial in study.trials:\n",
        "    print(f\"[{trial.number}] params={trial.params}, value={trial.value}\")"
      ],
      "metadata": {
        "id": "L3oL-ottxblq"
      },
      "execution_count": null,
      "outputs": []
    }
  ]
}