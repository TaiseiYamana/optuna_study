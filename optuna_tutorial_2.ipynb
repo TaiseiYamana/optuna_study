{
  "nbformat": 4,
  "nbformat_minor": 0,
  "metadata": {
    "colab": {
      "provenance": [],
      "authorship_tag": "ABX9TyOAzqwjDPPqLSTXFFtNNgTp",
      "include_colab_link": true
    },
    "kernelspec": {
      "name": "python3",
      "display_name": "Python 3"
    },
    "language_info": {
      "name": "python"
    }
  },
  "cells": [
    {
      "cell_type": "markdown",
      "metadata": {
        "id": "view-in-github",
        "colab_type": "text"
      },
      "source": [
        "<a href=\"https://colab.research.google.com/github/TaiseiYamana/optuna_study/blob/main/optuna_tutorial_2.ipynb\" target=\"_parent\"><img src=\"https://colab.research.google.com/assets/colab-badge.svg\" alt=\"Open In Colab\"/></a>"
      ]
    },
    {
      "cell_type": "markdown",
      "source": [
        "# Optuna チュートリアル2\n",
        "\n",
        "## 参考本\n",
        "https://www.ohmsha.co.jp/book/9784274230103/\n",
        "## GitHub\n",
        "https://github.com/pfnet-research/optuna-book"
      ],
      "metadata": {
        "id": "puExs7UMt0im"
      }
    },
    {
      "cell_type": "code",
      "execution_count": 4,
      "metadata": {
        "colab": {
          "base_uri": "https://localhost:8080/"
        },
        "id": "1MmDMBROtqmq",
        "outputId": "b49c2363-b1a9-4302-fc6e-07787466942a"
      },
      "outputs": [
        {
          "output_type": "stream",
          "name": "stdout",
          "text": [
            "Collecting optuna\n",
            "  Downloading optuna-3.2.0-py3-none-any.whl (390 kB)\n",
            "\u001b[2K     \u001b[90m━━━━━━━━━━━━━━━━━━━━━━━━━━━━━━━━━━━━━━━\u001b[0m \u001b[32m390.6/390.6 kB\u001b[0m \u001b[31m7.9 MB/s\u001b[0m eta \u001b[36m0:00:00\u001b[0m\n",
            "\u001b[?25hCollecting alembic>=1.5.0 (from optuna)\n",
            "  Downloading alembic-1.11.1-py3-none-any.whl (224 kB)\n",
            "\u001b[2K     \u001b[90m━━━━━━━━━━━━━━━━━━━━━━━━━━━━━━━━━━━━━━\u001b[0m \u001b[32m224.5/224.5 kB\u001b[0m \u001b[31m19.0 MB/s\u001b[0m eta \u001b[36m0:00:00\u001b[0m\n",
            "\u001b[?25hCollecting cmaes>=0.9.1 (from optuna)\n",
            "  Downloading cmaes-0.9.1-py3-none-any.whl (21 kB)\n",
            "Collecting colorlog (from optuna)\n",
            "  Downloading colorlog-6.7.0-py2.py3-none-any.whl (11 kB)\n",
            "Requirement already satisfied: numpy in /usr/local/lib/python3.10/dist-packages (from optuna) (1.22.4)\n",
            "Requirement already satisfied: packaging>=20.0 in /usr/local/lib/python3.10/dist-packages (from optuna) (23.1)\n",
            "Requirement already satisfied: sqlalchemy>=1.3.0 in /usr/local/lib/python3.10/dist-packages (from optuna) (2.0.16)\n",
            "Requirement already satisfied: tqdm in /usr/local/lib/python3.10/dist-packages (from optuna) (4.65.0)\n",
            "Requirement already satisfied: PyYAML in /usr/local/lib/python3.10/dist-packages (from optuna) (6.0)\n",
            "Collecting Mako (from alembic>=1.5.0->optuna)\n",
            "  Downloading Mako-1.2.4-py3-none-any.whl (78 kB)\n",
            "\u001b[2K     \u001b[90m━━━━━━━━━━━━━━━━━━━━━━━━━━━━━━━━━━━━━━━━\u001b[0m \u001b[32m78.7/78.7 kB\u001b[0m \u001b[31m7.4 MB/s\u001b[0m eta \u001b[36m0:00:00\u001b[0m\n",
            "\u001b[?25hRequirement already satisfied: typing-extensions>=4 in /usr/local/lib/python3.10/dist-packages (from alembic>=1.5.0->optuna) (4.6.3)\n",
            "Requirement already satisfied: greenlet!=0.4.17 in /usr/local/lib/python3.10/dist-packages (from sqlalchemy>=1.3.0->optuna) (2.0.2)\n",
            "Requirement already satisfied: MarkupSafe>=0.9.2 in /usr/local/lib/python3.10/dist-packages (from Mako->alembic>=1.5.0->optuna) (2.1.3)\n",
            "Installing collected packages: Mako, colorlog, cmaes, alembic, optuna\n",
            "Successfully installed Mako-1.2.4 alembic-1.11.1 cmaes-0.9.1 colorlog-6.7.0 optuna-3.2.0\n"
          ]
        }
      ],
      "source": [
        "!pip3 install optuna"
      ]
    },
    {
      "cell_type": "markdown",
      "source": [
        "# Studyの保存と再開\n",
        "Studyはローカルファイルとして保存することが可能です。Studyを保存することで以下のメリットがあります。\n",
        "## メリット\n",
        "- 長時間にわたる最適化の途中経過を調べることができる。\n",
        "- 何らかの原因で最適化が中断された場合に、途中から再開できる。\n",
        "- 可視化機能などを使い、最適化の傾向を後から分析できる。"
      ],
      "metadata": {
        "id": "thTpWVG2sFjI"
      }
    },
    {
      "cell_type": "code",
      "source": [
        "# Optunaをインポート\n",
        "import optuna\n",
        "\n",
        "# 目的関数を定義\n",
        "def objective(trial): # 引数に　trial を指定\n",
        "    # サジェストAPIで目的関数への入力を定案\n",
        "    x = trial.suggest_float(\"x\", -4.5, 4.5)\n",
        "    y = trial.suggest_float(\"y\", -4.5, 4.5)\n",
        "\n",
        "    # 目的関数の評価値をreturn\n",
        "    return (1.5 - x + x * y) ** 2 + \\\n",
        "        (2.25 - x + x * y ** 2) ** 2 + \\\n",
        "        (2.625 - x + x * y ** 3) ** 2"
      ],
      "metadata": {
        "id": "fWVE4049lKvs"
      },
      "execution_count": null,
      "outputs": []
    },
    {
      "cell_type": "code",
      "source": [
        "from optuna.study import MaxTrialsCallback\n",
        "\n",
        "# セーブ先の設定を含めた最適化の実行\n",
        "storage=\"sqlite:///optuna.db\"\n",
        "study_name=\"function_minimize\"\n",
        "study = optuna.create_study(\n",
        "    direction=\"minimize\",\n",
        "    study_name=study_name,\n",
        "    storage=storage, # 保存先を\"sqlite:///\"から始める文字列を指定\n",
        "    load_if_exists=True #　既存のstudy_nameのstudyは作成エラーになるため、load_if_exitsをTrueにする。\n",
        ")\n",
        "\n",
        "n_trials = 100\n",
        "study.optimize(objective,\n",
        "               n_trials=n_trials,\n",
        "               callbacks=[MaxTrialsCallback(n_trials)])  # MaxTrialsCalbackで再開後の終了trialsを指定"
      ],
      "metadata": {
        "id": "36fSdbXdNILu",
        "colab": {
          "base_uri": "https://localhost:8080/"
        },
        "outputId": "74ebcb98-8323-4fe3-f31f-22841605949d"
      },
      "execution_count": null,
      "outputs": [
        {
          "output_type": "stream",
          "name": "stderr",
          "text": [
            "[I 2023-07-02 15:01:33,108] Using an existing study with name 'function_minimize' instead of creating a new one.\n",
            "[I 2023-07-02 15:01:33,252] Trial 55 finished with value: 14.02432431971972 and parameters: {'x': 3.9687944785349747, 'y': -0.15651512525455474}. Best is trial 29 with value: 0.027249374122802338.\n",
            "[I 2023-07-02 15:01:33,366] Trial 56 finished with value: 40.26600225783084 and parameters: {'x': 3.57677255307173, 'y': 1.171218633356017}. Best is trial 29 with value: 0.027249374122802338.\n",
            "[I 2023-07-02 15:01:33,479] Trial 57 finished with value: 200.75663027875908 and parameters: {'x': 2.821380052749278, 'y': 1.6263797008293264}. Best is trial 29 with value: 0.027249374122802338.\n",
            "[I 2023-07-02 15:01:33,603] Trial 58 finished with value: 0.5062147803757973 and parameters: {'x': 2.681420653375141, 'y': 0.20392405623640375}. Best is trial 29 with value: 0.027249374122802338.\n",
            "[I 2023-07-02 15:01:33,705] Trial 59 finished with value: 0.48662479923709345 and parameters: {'x': 3.221203320236627, 'y': 0.40974687430113566}. Best is trial 29 with value: 0.027249374122802338.\n",
            "[I 2023-07-02 15:01:33,802] Trial 60 finished with value: 24.46847469254427 and parameters: {'x': 4.112131684298975, 'y': -0.450717259829807}. Best is trial 29 with value: 0.027249374122802338.\n",
            "[I 2023-07-02 15:01:33,904] Trial 61 finished with value: 1.28336938125535 and parameters: {'x': 3.162645437382751, 'y': 0.7178585348175412}. Best is trial 29 with value: 0.027249374122802338.\n",
            "[I 2023-07-02 15:01:34,012] Trial 62 finished with value: 0.04686667013636849 and parameters: {'x': 3.050379165773393, 'y': 0.554107261387714}. Best is trial 29 with value: 0.027249374122802338.\n",
            "[I 2023-07-02 15:01:34,114] Trial 63 finished with value: 7.581599787014571 and parameters: {'x': 3.5733279354581726, 'y': -0.04224286948744371}. Best is trial 29 with value: 0.027249374122802338.\n",
            "[I 2023-07-02 15:01:34,217] Trial 64 finished with value: 16.194044515857872 and parameters: {'x': 2.2386576911946987, 'y': 1.0302870858837494}. Best is trial 29 with value: 0.027249374122802338.\n",
            "[I 2023-07-02 15:01:34,329] Trial 65 finished with value: 0.12475390120135882 and parameters: {'x': 2.9244633935804414, 'y': 0.3983468412508099}. Best is trial 29 with value: 0.027249374122802338.\n",
            "[I 2023-07-02 15:01:34,430] Trial 66 finished with value: 1.6205052177686792 and parameters: {'x': 2.9109789391544356, 'y': 0.1156270805374583}. Best is trial 29 with value: 0.027249374122802338.\n",
            "[I 2023-07-02 15:01:34,550] Trial 67 finished with value: 2.5773556807529854 and parameters: {'x': 2.5026996621302358, 'y': -0.2383272850572804}. Best is trial 29 with value: 0.027249374122802338.\n",
            "[I 2023-07-02 15:01:34,671] Trial 68 finished with value: 47.68336019449502 and parameters: {'x': 1.9823598964054239, 'y': 1.3339762817120457}. Best is trial 29 with value: 0.027249374122802338.\n",
            "[I 2023-07-02 15:01:34,787] Trial 69 finished with value: 3.1497544690760386 and parameters: {'x': 2.8150872716897872, 'y': 0.7701952938285002}. Best is trial 29 with value: 0.027249374122802338.\n",
            "[I 2023-07-02 15:01:34,889] Trial 70 finished with value: 6.971273229566739 and parameters: {'x': 0.6349035584295382, 'y': -0.8384056046448021}. Best is trial 29 with value: 0.027249374122802338.\n",
            "[I 2023-07-02 15:01:35,000] Trial 71 finished with value: 1.9270438306694662 and parameters: {'x': 3.731067085300781, 'y': 0.41106922850973127}. Best is trial 29 with value: 0.027249374122802338.\n",
            "[I 2023-07-02 15:01:35,106] Trial 72 finished with value: 0.2024417843981719 and parameters: {'x': 3.3359904683054746, 'y': 0.49448465774330386}. Best is trial 29 with value: 0.027249374122802338.\n",
            "[I 2023-07-02 15:01:35,224] Trial 73 finished with value: 16.08554169872797 and parameters: {'x': 3.370053760914377, 'y': 1.0192113290365925}. Best is trial 29 with value: 0.027249374122802338.\n",
            "[I 2023-07-02 15:01:35,334] Trial 74 finished with value: 0.5342873403252777 and parameters: {'x': 3.0370366494906187, 'y': 0.3392509561511415}. Best is trial 29 with value: 0.027249374122802338.\n",
            "[I 2023-07-02 15:01:35,445] Trial 75 finished with value: 9.369072683852504 and parameters: {'x': 3.9329632067528637, 'y': 0.05742359561564747}. Best is trial 29 with value: 0.027249374122802338.\n",
            "[I 2023-07-02 15:01:35,556] Trial 76 finished with value: 1.3858847475797833 and parameters: {'x': 3.4350828397030044, 'y': 0.7504110097016217}. Best is trial 29 with value: 0.027249374122802338.\n",
            "[I 2023-07-02 15:01:35,669] Trial 77 finished with value: 2.4727270169215596 and parameters: {'x': 2.680675425477537, 'y': -0.1276626023902837}. Best is trial 29 with value: 0.027249374122802338.\n",
            "[I 2023-07-02 15:01:35,789] Trial 78 finished with value: 2.3134183846868908 and parameters: {'x': 4.190348879968981, 'y': 0.4959546151532938}. Best is trial 29 with value: 0.027249374122802338.\n",
            "[I 2023-07-02 15:01:35,898] Trial 79 finished with value: 43.53979358477517 and parameters: {'x': 2.3602105344411712, 'y': 1.2658956393342207}. Best is trial 29 with value: 0.027249374122802338.\n",
            "[I 2023-07-02 15:01:36,013] Trial 80 finished with value: 11.505355990675964 and parameters: {'x': 3.044321221586644, 'y': 0.9654694306624638}. Best is trial 29 with value: 0.027249374122802338.\n",
            "[I 2023-07-02 15:01:36,130] Trial 81 finished with value: 0.401000946521349 and parameters: {'x': 3.6638540371061987, 'y': 0.535290482718608}. Best is trial 29 with value: 0.027249374122802338.\n",
            "[I 2023-07-02 15:01:36,262] Trial 82 finished with value: 2.2352067672132736 and parameters: {'x': 3.278044299339132, 'y': 0.22196757888388563}. Best is trial 29 with value: 0.027249374122802338.\n",
            "[I 2023-07-02 15:01:36,382] Trial 83 finished with value: 0.4320836271976224 and parameters: {'x': 3.5016370965564345, 'y': 0.6913078066317893}. Best is trial 29 with value: 0.027249374122802338.\n",
            "[I 2023-07-02 15:01:36,504] Trial 84 finished with value: 2.81099498287652 and parameters: {'x': 3.8343804640563954, 'y': 0.3811833383150605}. Best is trial 29 with value: 0.027249374122802338.\n",
            "[I 2023-07-02 15:01:36,628] Trial 85 finished with value: 21.796844957580635 and parameters: {'x': 4.255914965125747, 'y': -0.29507465493675133}. Best is trial 29 with value: 0.027249374122802338.\n",
            "[I 2023-07-02 15:01:36,753] Trial 86 finished with value: 3.8011254119984628 and parameters: {'x': 3.2176547440950602, 'y': 0.04009744538760862}. Best is trial 29 with value: 0.027249374122802338.\n",
            "[I 2023-07-02 15:01:36,869] Trial 87 finished with value: 30.411983246265184 and parameters: {'x': 4.02211658531334, 'y': 1.108265837021336}. Best is trial 29 with value: 0.027249374122802338.\n",
            "[I 2023-07-02 15:01:36,987] Trial 88 finished with value: 3.828759005825766 and parameters: {'x': 3.7854205300597115, 'y': 0.8539155839299202}. Best is trial 29 with value: 0.027249374122802338.\n",
            "[I 2023-07-02 15:01:37,100] Trial 89 finished with value: 123.53659253229779 and parameters: {'x': 2.8527493366920336, 'y': 1.4845511585788715}. Best is trial 29 with value: 0.027249374122802338.\n",
            "[I 2023-07-02 15:01:37,237] Trial 90 finished with value: 0.02645574886035574 and parameters: {'x': 3.5163525909935327, 'y': 0.5991081783487189}. Best is trial 90 with value: 0.02645574886035574.\n",
            "[I 2023-07-02 15:01:37,362] Trial 91 finished with value: 0.015209582269158257 and parameters: {'x': 3.37388729059805, 'y': 0.5796971164954081}. Best is trial 91 with value: 0.015209582269158257.\n",
            "[I 2023-07-02 15:01:37,495] Trial 92 finished with value: 1.9363910151624628 and parameters: {'x': 3.405963446403882, 'y': 0.30387698977546607}. Best is trial 91 with value: 0.015209582269158257.\n",
            "[I 2023-07-02 15:01:37,615] Trial 93 finished with value: 2.5679501764032504 and parameters: {'x': 3.0407640099245707, 'y': 0.7682588349522199}. Best is trial 91 with value: 0.015209582269158257.\n",
            "[I 2023-07-02 15:01:37,742] Trial 94 finished with value: 0.3387007128829653 and parameters: {'x': 2.6212500274946477, 'y': 0.5257336262315557}. Best is trial 91 with value: 0.015209582269158257.\n",
            "[I 2023-07-02 15:01:37,874] Trial 95 finished with value: 8.516367317148088 and parameters: {'x': 3.777020755404844, 'y': 0.019088560167517366}. Best is trial 91 with value: 0.015209582269158257.\n",
            "[I 2023-07-02 15:01:38,000] Trial 96 finished with value: 21.827881183257286 and parameters: {'x': 4.072270704987445, 'y': 1.0575672373589469}. Best is trial 91 with value: 0.015209582269158257.\n",
            "[I 2023-07-02 15:01:38,109] Trial 97 finished with value: 5.4020567106087825 and parameters: {'x': 3.4759876941277987, 'y': 0.8754775039006728}. Best is trial 91 with value: 0.015209582269158257.\n",
            "[I 2023-07-02 15:01:38,222] Trial 98 finished with value: 61.585655374656184 and parameters: {'x': 3.1319830341769443, 'y': 1.2841921854366394}. Best is trial 91 with value: 0.015209582269158257.\n",
            "[I 2023-07-02 15:01:38,328] Trial 99 finished with value: 0.4516620838027979 and parameters: {'x': 2.8327107176138524, 'y': 0.27788843730940316}. Best is trial 91 with value: 0.015209582269158257.\n"
          ]
        }
      ]
    },
    {
      "cell_type": "code",
      "source": [
        "# Studyのロード\n",
        "study = optuna.load_study(\n",
        "    storage=storage,\n",
        "    study_name=study_name,\n",
        ")\n",
        "study.optimize(objective, n_trials=100)"
      ],
      "metadata": {
        "colab": {
          "base_uri": "https://localhost:8080/",
          "height": 854
        },
        "id": "pRtd67sOtpG8",
        "outputId": "c13553d5-cf1a-4ce4-eee1-268367096efa"
      },
      "execution_count": null,
      "outputs": [
        {
          "output_type": "stream",
          "name": "stderr",
          "text": [
            "[I 2023-07-02 15:06:29,801] Trial 100 finished with value: 0.09712279700659136 and parameters: {'x': 3.2842807230627313, 'y': 0.6117548319950098}. Best is trial 91 with value: 0.015209582269158257.\n",
            "[I 2023-07-02 15:06:29,912] Trial 101 finished with value: 0.0921311115979917 and parameters: {'x': 3.5872490543176783, 'y': 0.5779949595899861}. Best is trial 91 with value: 0.015209582269158257.\n",
            "[I 2023-07-02 15:06:30,025] Trial 102 finished with value: 0.467064037567981 and parameters: {'x': 3.330722223054503, 'y': 0.4452664496009074}. Best is trial 91 with value: 0.015209582269158257.\n",
            "[I 2023-07-02 15:06:30,133] Trial 103 finished with value: 0.12102922427658372 and parameters: {'x': 3.1970610693637536, 'y': 0.6041638479588184}. Best is trial 91 with value: 0.015209582269158257.\n",
            "[I 2023-07-02 15:06:30,252] Trial 104 finished with value: 1.7300289317729285 and parameters: {'x': 2.460687556321671, 'y': -0.13597299685584768}. Best is trial 91 with value: 0.015209582269158257.\n",
            "[I 2023-07-02 15:06:30,363] Trial 105 finished with value: 2.403759426679226 and parameters: {'x': 3.1498342256253142, 'y': 0.14285093769473783}. Best is trial 91 with value: 0.015209582269158257.\n",
            "[I 2023-07-02 15:06:30,481] Trial 106 finished with value: 0.5063686020588629 and parameters: {'x': 2.7647784310524433, 'y': 0.5884364331142256}. Best is trial 91 with value: 0.015209582269158257.\n",
            "[I 2023-07-02 15:06:30,596] Trial 107 finished with value: 9.248918093089689 and parameters: {'x': 2.9381713130536955, 'y': 0.9289255403879078}. Best is trial 91 with value: 0.015209582269158257.\n",
            "[I 2023-07-02 15:06:30,707] Trial 108 finished with value: 2.520833066666823 and parameters: {'x': 3.545411122147642, 'y': 0.3060345010206299}. Best is trial 91 with value: 0.015209582269158257.\n",
            "[I 2023-07-02 15:06:30,811] Trial 109 finished with value: 18.208899511897897 and parameters: {'x': 3.8233529095314327, 'y': -0.4122419802643741}. Best is trial 91 with value: 0.015209582269158257.\n",
            "[I 2023-07-02 15:06:30,926] Trial 110 finished with value: 1.0289245413335817 and parameters: {'x': 2.518467879738221, 'y': 0.018213766953403487}. Best is trial 91 with value: 0.015209582269158257.\n",
            "[I 2023-07-02 15:06:31,044] Trial 111 finished with value: 0.15876127642376944 and parameters: {'x': 3.301903200551619, 'y': 0.6284880717986278}. Best is trial 91 with value: 0.015209582269158257.\n",
            "[I 2023-07-02 15:06:31,166] Trial 112 finished with value: 0.16275390408918053 and parameters: {'x': 3.296649407383489, 'y': 0.6285203718118917}. Best is trial 91 with value: 0.015209582269158257.\n",
            "[I 2023-07-02 15:06:31,280] Trial 113 finished with value: 35.47849212251449 and parameters: {'x': 3.2032493720716535, 'y': 1.163404472476849}. Best is trial 91 with value: 0.015209582269158257.\n",
            "[I 2023-07-02 15:06:31,396] Trial 114 finished with value: 1.8884542832541746 and parameters: {'x': 3.000358134664218, 'y': 0.7333759547904399}. Best is trial 91 with value: 0.015209582269158257.\n",
            "[I 2023-07-02 15:06:31,516] Trial 115 finished with value: 5.3683922841011 and parameters: {'x': 3.662592923901158, 'y': 0.8817558992709993}. Best is trial 91 with value: 0.015209582269158257.\n",
            "[I 2023-07-02 15:06:31,639] Trial 116 finished with value: 18.57526558055274 and parameters: {'x': 2.6962425500436966, 'y': 1.0523592687944685}. Best is trial 91 with value: 0.015209582269158257.\n",
            "[I 2023-07-02 15:06:31,754] Trial 117 finished with value: 0.02644262054132715 and parameters: {'x': 3.40488131143143, 'y': 0.6003220333845876}. Best is trial 91 with value: 0.015209582269158257.\n",
            "[I 2023-07-02 15:06:31,863] Trial 118 finished with value: 6.93335458620809 and parameters: {'x': 4.043259298580845, 'y': 0.2318456422218858}. Best is trial 91 with value: 0.015209582269158257.\n",
            "[I 2023-07-02 15:06:31,969] Trial 119 finished with value: 0.7405140719888307 and parameters: {'x': 3.509902434776335, 'y': 0.4574861779248317}. Best is trial 91 with value: 0.015209582269158257.\n",
            "[I 2023-07-02 15:06:32,094] Trial 120 finished with value: 59.15786064723693 and parameters: {'x': 2.112085072931096, 'y': 1.3789294257478408}. Best is trial 91 with value: 0.015209582269158257.\n",
            "[I 2023-07-02 15:06:32,202] Trial 121 finished with value: 0.2504291908382363 and parameters: {'x': 3.3033134156640536, 'y': 0.6445420097463741}. Best is trial 91 with value: 0.015209582269158257.\n",
            "[I 2023-07-02 15:06:32,324] Trial 122 finished with value: 0.16871791139318268 and parameters: {'x': 2.942069978925598, 'y': 0.5681948717640904}. Best is trial 91 with value: 0.015209582269158257.\n",
            "[I 2023-07-02 15:06:32,423] Trial 123 finished with value: 3.5663009614555716 and parameters: {'x': 3.4019007715810914, 'y': 0.8281046730820787}. Best is trial 91 with value: 0.015209582269158257.\n",
            "[I 2023-07-02 15:06:32,529] Trial 124 finished with value: 2.7009195387742087 and parameters: {'x': 3.1589411149888305, 'y': 0.116021672622109}. Best is trial 91 with value: 0.015209582269158257.\n",
            "[I 2023-07-02 15:06:32,649] Trial 125 finished with value: 3.362819268602869 and parameters: {'x': 3.885212900115569, 'y': 0.3632075689463149}. Best is trial 91 with value: 0.015209582269158257.\n",
            "[I 2023-07-02 15:06:32,757] Trial 126 finished with value: 0.162461851867086 and parameters: {'x': 3.5839133416774205, 'y': 0.6651472338101064}. Best is trial 91 with value: 0.015209582269158257.\n",
            "[I 2023-07-02 15:06:32,884] Trial 127 finished with value: 48.34547251062526 and parameters: {'x': 4.401736080431737, 'y': 1.1716418971356242}. Best is trial 91 with value: 0.015209582269158257.\n",
            "[I 2023-07-02 15:06:33,015] Trial 128 finished with value: 9.895633517304956 and parameters: {'x': 3.7000427028451335, 'y': -0.10755870178103732}. Best is trial 91 with value: 0.015209582269158257.\n"
          ]
        },
        {
          "output_type": "error",
          "ename": "KeyboardInterrupt",
          "evalue": "ignored",
          "traceback": [
            "\u001b[0;31m---------------------------------------------------------------------------\u001b[0m",
            "\u001b[0;31mKeyboardInterrupt\u001b[0m                         Traceback (most recent call last)",
            "\u001b[0;32m<ipython-input-7-218112e549e1>\u001b[0m in \u001b[0;36m<cell line: 6>\u001b[0;34m()\u001b[0m\n\u001b[1;32m      4\u001b[0m     \u001b[0mstudy_name\u001b[0m\u001b[0;34m=\u001b[0m\u001b[0mstudy_name\u001b[0m\u001b[0;34m,\u001b[0m\u001b[0;34m\u001b[0m\u001b[0;34m\u001b[0m\u001b[0m\n\u001b[1;32m      5\u001b[0m )\n\u001b[0;32m----> 6\u001b[0;31m \u001b[0mstudy\u001b[0m\u001b[0;34m.\u001b[0m\u001b[0moptimize\u001b[0m\u001b[0;34m(\u001b[0m\u001b[0mobjective\u001b[0m\u001b[0;34m,\u001b[0m \u001b[0mn_trials\u001b[0m\u001b[0;34m=\u001b[0m\u001b[0;36m1000\u001b[0m\u001b[0;34m)\u001b[0m\u001b[0;34m\u001b[0m\u001b[0;34m\u001b[0m\u001b[0m\n\u001b[0m",
            "\u001b[0;32m/usr/local/lib/python3.10/dist-packages/optuna/study/study.py\u001b[0m in \u001b[0;36moptimize\u001b[0;34m(self, func, n_trials, timeout, n_jobs, catch, callbacks, gc_after_trial, show_progress_bar)\u001b[0m\n\u001b[1;32m    441\u001b[0m         \"\"\"\n\u001b[1;32m    442\u001b[0m \u001b[0;34m\u001b[0m\u001b[0m\n\u001b[0;32m--> 443\u001b[0;31m         _optimize(\n\u001b[0m\u001b[1;32m    444\u001b[0m             \u001b[0mstudy\u001b[0m\u001b[0;34m=\u001b[0m\u001b[0mself\u001b[0m\u001b[0;34m,\u001b[0m\u001b[0;34m\u001b[0m\u001b[0;34m\u001b[0m\u001b[0m\n\u001b[1;32m    445\u001b[0m             \u001b[0mfunc\u001b[0m\u001b[0;34m=\u001b[0m\u001b[0mfunc\u001b[0m\u001b[0;34m,\u001b[0m\u001b[0;34m\u001b[0m\u001b[0;34m\u001b[0m\u001b[0m\n",
            "\u001b[0;32m/usr/local/lib/python3.10/dist-packages/optuna/study/_optimize.py\u001b[0m in \u001b[0;36m_optimize\u001b[0;34m(study, func, n_trials, timeout, n_jobs, catch, callbacks, gc_after_trial, show_progress_bar)\u001b[0m\n\u001b[1;32m     64\u001b[0m     \u001b[0;32mtry\u001b[0m\u001b[0;34m:\u001b[0m\u001b[0;34m\u001b[0m\u001b[0;34m\u001b[0m\u001b[0m\n\u001b[1;32m     65\u001b[0m         \u001b[0;32mif\u001b[0m \u001b[0mn_jobs\u001b[0m \u001b[0;34m==\u001b[0m \u001b[0;36m1\u001b[0m\u001b[0;34m:\u001b[0m\u001b[0;34m\u001b[0m\u001b[0;34m\u001b[0m\u001b[0m\n\u001b[0;32m---> 66\u001b[0;31m             _optimize_sequential(\n\u001b[0m\u001b[1;32m     67\u001b[0m                 \u001b[0mstudy\u001b[0m\u001b[0;34m,\u001b[0m\u001b[0;34m\u001b[0m\u001b[0;34m\u001b[0m\u001b[0m\n\u001b[1;32m     68\u001b[0m                 \u001b[0mfunc\u001b[0m\u001b[0;34m,\u001b[0m\u001b[0;34m\u001b[0m\u001b[0;34m\u001b[0m\u001b[0m\n",
            "\u001b[0;32m/usr/local/lib/python3.10/dist-packages/optuna/study/_optimize.py\u001b[0m in \u001b[0;36m_optimize_sequential\u001b[0;34m(study, func, n_trials, timeout, catch, callbacks, gc_after_trial, reseed_sampler_rng, time_start, progress_bar)\u001b[0m\n\u001b[1;32m    161\u001b[0m \u001b[0;34m\u001b[0m\u001b[0m\n\u001b[1;32m    162\u001b[0m         \u001b[0;32mtry\u001b[0m\u001b[0;34m:\u001b[0m\u001b[0;34m\u001b[0m\u001b[0;34m\u001b[0m\u001b[0m\n\u001b[0;32m--> 163\u001b[0;31m             \u001b[0mfrozen_trial\u001b[0m \u001b[0;34m=\u001b[0m \u001b[0m_run_trial\u001b[0m\u001b[0;34m(\u001b[0m\u001b[0mstudy\u001b[0m\u001b[0;34m,\u001b[0m \u001b[0mfunc\u001b[0m\u001b[0;34m,\u001b[0m \u001b[0mcatch\u001b[0m\u001b[0;34m)\u001b[0m\u001b[0;34m\u001b[0m\u001b[0;34m\u001b[0m\u001b[0m\n\u001b[0m\u001b[1;32m    164\u001b[0m         \u001b[0;32mfinally\u001b[0m\u001b[0;34m:\u001b[0m\u001b[0;34m\u001b[0m\u001b[0;34m\u001b[0m\u001b[0m\n\u001b[1;32m    165\u001b[0m             \u001b[0;31m# The following line mitigates memory problems that can be occurred in some\u001b[0m\u001b[0;34m\u001b[0m\u001b[0;34m\u001b[0m\u001b[0m\n",
            "\u001b[0;32m/usr/local/lib/python3.10/dist-packages/optuna/study/_optimize.py\u001b[0m in \u001b[0;36m_run_trial\u001b[0;34m(study, func, catch)\u001b[0m\n\u001b[1;32m    189\u001b[0m         \u001b[0moptuna\u001b[0m\u001b[0;34m.\u001b[0m\u001b[0mstorages\u001b[0m\u001b[0;34m.\u001b[0m\u001b[0mfail_stale_trials\u001b[0m\u001b[0;34m(\u001b[0m\u001b[0mstudy\u001b[0m\u001b[0;34m)\u001b[0m\u001b[0;34m\u001b[0m\u001b[0;34m\u001b[0m\u001b[0m\n\u001b[1;32m    190\u001b[0m \u001b[0;34m\u001b[0m\u001b[0m\n\u001b[0;32m--> 191\u001b[0;31m     \u001b[0mtrial\u001b[0m \u001b[0;34m=\u001b[0m \u001b[0mstudy\u001b[0m\u001b[0;34m.\u001b[0m\u001b[0mask\u001b[0m\u001b[0;34m(\u001b[0m\u001b[0;34m)\u001b[0m\u001b[0;34m\u001b[0m\u001b[0;34m\u001b[0m\u001b[0m\n\u001b[0m\u001b[1;32m    192\u001b[0m \u001b[0;34m\u001b[0m\u001b[0m\n\u001b[1;32m    193\u001b[0m     \u001b[0mstate\u001b[0m\u001b[0;34m:\u001b[0m \u001b[0mOptional\u001b[0m\u001b[0;34m[\u001b[0m\u001b[0mTrialState\u001b[0m\u001b[0;34m]\u001b[0m \u001b[0;34m=\u001b[0m \u001b[0;32mNone\u001b[0m\u001b[0;34m\u001b[0m\u001b[0;34m\u001b[0m\u001b[0m\n",
            "\u001b[0;32m/usr/local/lib/python3.10/dist-packages/optuna/study/study.py\u001b[0m in \u001b[0;36mask\u001b[0;34m(self, fixed_distributions)\u001b[0m\n\u001b[1;32m    533\u001b[0m         \u001b[0mtrial_id\u001b[0m \u001b[0;34m=\u001b[0m \u001b[0mself\u001b[0m\u001b[0;34m.\u001b[0m\u001b[0m_pop_waiting_trial_id\u001b[0m\u001b[0;34m(\u001b[0m\u001b[0;34m)\u001b[0m\u001b[0;34m\u001b[0m\u001b[0;34m\u001b[0m\u001b[0m\n\u001b[1;32m    534\u001b[0m         \u001b[0;32mif\u001b[0m \u001b[0mtrial_id\u001b[0m \u001b[0;32mis\u001b[0m \u001b[0;32mNone\u001b[0m\u001b[0;34m:\u001b[0m\u001b[0;34m\u001b[0m\u001b[0;34m\u001b[0m\u001b[0m\n\u001b[0;32m--> 535\u001b[0;31m             \u001b[0mtrial_id\u001b[0m \u001b[0;34m=\u001b[0m \u001b[0mself\u001b[0m\u001b[0;34m.\u001b[0m\u001b[0m_storage\u001b[0m\u001b[0;34m.\u001b[0m\u001b[0mcreate_new_trial\u001b[0m\u001b[0;34m(\u001b[0m\u001b[0mself\u001b[0m\u001b[0;34m.\u001b[0m\u001b[0m_study_id\u001b[0m\u001b[0;34m)\u001b[0m\u001b[0;34m\u001b[0m\u001b[0;34m\u001b[0m\u001b[0m\n\u001b[0m\u001b[1;32m    536\u001b[0m         \u001b[0mtrial\u001b[0m \u001b[0;34m=\u001b[0m \u001b[0mtrial_module\u001b[0m\u001b[0;34m.\u001b[0m\u001b[0mTrial\u001b[0m\u001b[0;34m(\u001b[0m\u001b[0mself\u001b[0m\u001b[0;34m,\u001b[0m \u001b[0mtrial_id\u001b[0m\u001b[0;34m)\u001b[0m\u001b[0;34m\u001b[0m\u001b[0;34m\u001b[0m\u001b[0m\n\u001b[1;32m    537\u001b[0m \u001b[0;34m\u001b[0m\u001b[0m\n",
            "\u001b[0;32m/usr/local/lib/python3.10/dist-packages/optuna/storages/_cached_storage.py\u001b[0m in \u001b[0;36mcreate_new_trial\u001b[0;34m(self, study_id, template_trial)\u001b[0m\n\u001b[1;32m    149\u001b[0m \u001b[0;34m\u001b[0m\u001b[0m\n\u001b[1;32m    150\u001b[0m     \u001b[0;32mdef\u001b[0m \u001b[0mcreate_new_trial\u001b[0m\u001b[0;34m(\u001b[0m\u001b[0mself\u001b[0m\u001b[0;34m,\u001b[0m \u001b[0mstudy_id\u001b[0m\u001b[0;34m:\u001b[0m \u001b[0mint\u001b[0m\u001b[0;34m,\u001b[0m \u001b[0mtemplate_trial\u001b[0m\u001b[0;34m:\u001b[0m \u001b[0mOptional\u001b[0m\u001b[0;34m[\u001b[0m\u001b[0mFrozenTrial\u001b[0m\u001b[0;34m]\u001b[0m \u001b[0;34m=\u001b[0m \u001b[0;32mNone\u001b[0m\u001b[0;34m)\u001b[0m \u001b[0;34m->\u001b[0m \u001b[0mint\u001b[0m\u001b[0;34m:\u001b[0m\u001b[0;34m\u001b[0m\u001b[0;34m\u001b[0m\u001b[0m\n\u001b[0;32m--> 151\u001b[0;31m         \u001b[0mfrozen_trial\u001b[0m \u001b[0;34m=\u001b[0m \u001b[0mself\u001b[0m\u001b[0;34m.\u001b[0m\u001b[0m_backend\u001b[0m\u001b[0;34m.\u001b[0m\u001b[0m_create_new_trial\u001b[0m\u001b[0;34m(\u001b[0m\u001b[0mstudy_id\u001b[0m\u001b[0;34m,\u001b[0m \u001b[0mtemplate_trial\u001b[0m\u001b[0;34m)\u001b[0m\u001b[0;34m\u001b[0m\u001b[0;34m\u001b[0m\u001b[0m\n\u001b[0m\u001b[1;32m    152\u001b[0m         \u001b[0mtrial_id\u001b[0m \u001b[0;34m=\u001b[0m \u001b[0mfrozen_trial\u001b[0m\u001b[0;34m.\u001b[0m\u001b[0m_trial_id\u001b[0m\u001b[0;34m\u001b[0m\u001b[0;34m\u001b[0m\u001b[0m\n\u001b[1;32m    153\u001b[0m         \u001b[0;32mwith\u001b[0m \u001b[0mself\u001b[0m\u001b[0;34m.\u001b[0m\u001b[0m_lock\u001b[0m\u001b[0;34m:\u001b[0m\u001b[0;34m\u001b[0m\u001b[0;34m\u001b[0m\u001b[0m\n",
            "\u001b[0;32m/usr/local/lib/python3.10/dist-packages/optuna/storages/_rdb/storage.py\u001b[0m in \u001b[0;36m_create_new_trial\u001b[0;34m(self, study_id, template_trial)\u001b[0m\n\u001b[1;32m    454\u001b[0m                     \u001b[0mmodels\u001b[0m\u001b[0;34m.\u001b[0m\u001b[0mStudyModel\u001b[0m\u001b[0;34m.\u001b[0m\u001b[0mfind_or_raise_by_id\u001b[0m\u001b[0;34m(\u001b[0m\u001b[0mstudy_id\u001b[0m\u001b[0;34m,\u001b[0m \u001b[0msession\u001b[0m\u001b[0;34m,\u001b[0m \u001b[0mfor_update\u001b[0m\u001b[0;34m=\u001b[0m\u001b[0;32mTrue\u001b[0m\u001b[0;34m)\u001b[0m\u001b[0;34m\u001b[0m\u001b[0;34m\u001b[0m\u001b[0m\n\u001b[1;32m    455\u001b[0m \u001b[0;34m\u001b[0m\u001b[0m\n\u001b[0;32m--> 456\u001b[0;31m                     \u001b[0mtrial\u001b[0m \u001b[0;34m=\u001b[0m \u001b[0mself\u001b[0m\u001b[0;34m.\u001b[0m\u001b[0m_get_prepared_new_trial\u001b[0m\u001b[0;34m(\u001b[0m\u001b[0mstudy_id\u001b[0m\u001b[0;34m,\u001b[0m \u001b[0mtemplate_trial\u001b[0m\u001b[0;34m,\u001b[0m \u001b[0msession\u001b[0m\u001b[0;34m)\u001b[0m\u001b[0;34m\u001b[0m\u001b[0;34m\u001b[0m\u001b[0m\n\u001b[0m\u001b[1;32m    457\u001b[0m                     \u001b[0;32mbreak\u001b[0m  \u001b[0;31m# Successfully created trial.\u001b[0m\u001b[0;34m\u001b[0m\u001b[0;34m\u001b[0m\u001b[0m\n\u001b[1;32m    458\u001b[0m                 \u001b[0;32mexcept\u001b[0m \u001b[0msqlalchemy_exc\u001b[0m\u001b[0;34m.\u001b[0m\u001b[0mOperationalError\u001b[0m\u001b[0;34m:\u001b[0m\u001b[0;34m\u001b[0m\u001b[0;34m\u001b[0m\u001b[0m\n",
            "\u001b[0;32m/usr/local/lib/python3.10/dist-packages/optuna/storages/_rdb/storage.py\u001b[0m in \u001b[0;36m_get_prepared_new_trial\u001b[0;34m(self, study_id, template_trial, session)\u001b[0m\n\u001b[1;32m    520\u001b[0m         \u001b[0;31m# Without flushing, the following operations (e.g, `_set_trial_param_without_commit`)\u001b[0m\u001b[0;34m\u001b[0m\u001b[0;34m\u001b[0m\u001b[0m\n\u001b[1;32m    521\u001b[0m         \u001b[0;31m# will fail because the target trial doesn't exist in the storage yet.\u001b[0m\u001b[0;34m\u001b[0m\u001b[0;34m\u001b[0m\u001b[0m\n\u001b[0;32m--> 522\u001b[0;31m         \u001b[0msession\u001b[0m\u001b[0;34m.\u001b[0m\u001b[0mflush\u001b[0m\u001b[0;34m(\u001b[0m\u001b[0;34m)\u001b[0m\u001b[0;34m\u001b[0m\u001b[0;34m\u001b[0m\u001b[0m\n\u001b[0m\u001b[1;32m    523\u001b[0m \u001b[0;34m\u001b[0m\u001b[0m\n\u001b[1;32m    524\u001b[0m         \u001b[0;32mif\u001b[0m \u001b[0mtemplate_trial\u001b[0m \u001b[0;32mis\u001b[0m \u001b[0;32mnot\u001b[0m \u001b[0;32mNone\u001b[0m\u001b[0;34m:\u001b[0m\u001b[0;34m\u001b[0m\u001b[0;34m\u001b[0m\u001b[0m\n",
            "\u001b[0;32m/usr/local/lib/python3.10/dist-packages/sqlalchemy/orm/session.py\u001b[0m in \u001b[0;36mflush\u001b[0;34m(self, objects)\u001b[0m\n\u001b[1;32m   4140\u001b[0m         \u001b[0;32mtry\u001b[0m\u001b[0;34m:\u001b[0m\u001b[0;34m\u001b[0m\u001b[0;34m\u001b[0m\u001b[0m\n\u001b[1;32m   4141\u001b[0m             \u001b[0mself\u001b[0m\u001b[0;34m.\u001b[0m\u001b[0m_flushing\u001b[0m \u001b[0;34m=\u001b[0m \u001b[0;32mTrue\u001b[0m\u001b[0;34m\u001b[0m\u001b[0;34m\u001b[0m\u001b[0m\n\u001b[0;32m-> 4142\u001b[0;31m             \u001b[0mself\u001b[0m\u001b[0;34m.\u001b[0m\u001b[0m_flush\u001b[0m\u001b[0;34m(\u001b[0m\u001b[0mobjects\u001b[0m\u001b[0;34m)\u001b[0m\u001b[0;34m\u001b[0m\u001b[0;34m\u001b[0m\u001b[0m\n\u001b[0m\u001b[1;32m   4143\u001b[0m         \u001b[0;32mfinally\u001b[0m\u001b[0;34m:\u001b[0m\u001b[0;34m\u001b[0m\u001b[0;34m\u001b[0m\u001b[0m\n\u001b[1;32m   4144\u001b[0m             \u001b[0mself\u001b[0m\u001b[0;34m.\u001b[0m\u001b[0m_flushing\u001b[0m \u001b[0;34m=\u001b[0m \u001b[0;32mFalse\u001b[0m\u001b[0;34m\u001b[0m\u001b[0;34m\u001b[0m\u001b[0m\n",
            "\u001b[0;32m/usr/local/lib/python3.10/dist-packages/sqlalchemy/orm/session.py\u001b[0m in \u001b[0;36m_flush\u001b[0;34m(self, objects)\u001b[0m\n\u001b[1;32m   4275\u001b[0m \u001b[0;34m\u001b[0m\u001b[0m\n\u001b[1;32m   4276\u001b[0m         \u001b[0;32mexcept\u001b[0m\u001b[0;34m:\u001b[0m\u001b[0;34m\u001b[0m\u001b[0;34m\u001b[0m\u001b[0m\n\u001b[0;32m-> 4277\u001b[0;31m             \u001b[0;32mwith\u001b[0m \u001b[0mutil\u001b[0m\u001b[0;34m.\u001b[0m\u001b[0msafe_reraise\u001b[0m\u001b[0;34m(\u001b[0m\u001b[0;34m)\u001b[0m\u001b[0;34m:\u001b[0m\u001b[0;34m\u001b[0m\u001b[0;34m\u001b[0m\u001b[0m\n\u001b[0m\u001b[1;32m   4278\u001b[0m                 \u001b[0mtransaction\u001b[0m\u001b[0;34m.\u001b[0m\u001b[0mrollback\u001b[0m\u001b[0;34m(\u001b[0m\u001b[0m_capture_exception\u001b[0m\u001b[0;34m=\u001b[0m\u001b[0;32mTrue\u001b[0m\u001b[0;34m)\u001b[0m\u001b[0;34m\u001b[0m\u001b[0;34m\u001b[0m\u001b[0m\n\u001b[1;32m   4279\u001b[0m \u001b[0;34m\u001b[0m\u001b[0m\n",
            "\u001b[0;32m/usr/local/lib/python3.10/dist-packages/sqlalchemy/util/langhelpers.py\u001b[0m in \u001b[0;36m__exit__\u001b[0;34m(self, type_, value, traceback)\u001b[0m\n\u001b[1;32m    145\u001b[0m             \u001b[0;32massert\u001b[0m \u001b[0mexc_value\u001b[0m \u001b[0;32mis\u001b[0m \u001b[0;32mnot\u001b[0m \u001b[0;32mNone\u001b[0m\u001b[0;34m\u001b[0m\u001b[0;34m\u001b[0m\u001b[0m\n\u001b[1;32m    146\u001b[0m             \u001b[0mself\u001b[0m\u001b[0;34m.\u001b[0m\u001b[0m_exc_info\u001b[0m \u001b[0;34m=\u001b[0m \u001b[0;32mNone\u001b[0m  \u001b[0;31m# remove potential circular references\u001b[0m\u001b[0;34m\u001b[0m\u001b[0;34m\u001b[0m\u001b[0m\n\u001b[0;32m--> 147\u001b[0;31m             \u001b[0;32mraise\u001b[0m \u001b[0mexc_value\u001b[0m\u001b[0;34m.\u001b[0m\u001b[0mwith_traceback\u001b[0m\u001b[0;34m(\u001b[0m\u001b[0mexc_tb\u001b[0m\u001b[0;34m)\u001b[0m\u001b[0;34m\u001b[0m\u001b[0;34m\u001b[0m\u001b[0m\n\u001b[0m\u001b[1;32m    148\u001b[0m         \u001b[0;32melse\u001b[0m\u001b[0;34m:\u001b[0m\u001b[0;34m\u001b[0m\u001b[0;34m\u001b[0m\u001b[0m\n\u001b[1;32m    149\u001b[0m             \u001b[0mself\u001b[0m\u001b[0;34m.\u001b[0m\u001b[0m_exc_info\u001b[0m \u001b[0;34m=\u001b[0m \u001b[0;32mNone\u001b[0m  \u001b[0;31m# remove potential circular references\u001b[0m\u001b[0;34m\u001b[0m\u001b[0;34m\u001b[0m\u001b[0m\n",
            "\u001b[0;32m/usr/local/lib/python3.10/dist-packages/sqlalchemy/orm/session.py\u001b[0m in \u001b[0;36m_flush\u001b[0;34m(self, objects)\u001b[0m\n\u001b[1;32m   4236\u001b[0m             \u001b[0mself\u001b[0m\u001b[0;34m.\u001b[0m\u001b[0m_warn_on_events\u001b[0m \u001b[0;34m=\u001b[0m \u001b[0;32mTrue\u001b[0m\u001b[0;34m\u001b[0m\u001b[0;34m\u001b[0m\u001b[0m\n\u001b[1;32m   4237\u001b[0m             \u001b[0;32mtry\u001b[0m\u001b[0;34m:\u001b[0m\u001b[0;34m\u001b[0m\u001b[0;34m\u001b[0m\u001b[0m\n\u001b[0;32m-> 4238\u001b[0;31m                 \u001b[0mflush_context\u001b[0m\u001b[0;34m.\u001b[0m\u001b[0mexecute\u001b[0m\u001b[0;34m(\u001b[0m\u001b[0;34m)\u001b[0m\u001b[0;34m\u001b[0m\u001b[0;34m\u001b[0m\u001b[0m\n\u001b[0m\u001b[1;32m   4239\u001b[0m             \u001b[0;32mfinally\u001b[0m\u001b[0;34m:\u001b[0m\u001b[0;34m\u001b[0m\u001b[0;34m\u001b[0m\u001b[0m\n\u001b[1;32m   4240\u001b[0m                 \u001b[0mself\u001b[0m\u001b[0;34m.\u001b[0m\u001b[0m_warn_on_events\u001b[0m \u001b[0;34m=\u001b[0m \u001b[0;32mFalse\u001b[0m\u001b[0;34m\u001b[0m\u001b[0;34m\u001b[0m\u001b[0m\n",
            "\u001b[0;32m/usr/local/lib/python3.10/dist-packages/sqlalchemy/orm/unitofwork.py\u001b[0m in \u001b[0;36mexecute\u001b[0;34m(self)\u001b[0m\n\u001b[1;32m    464\u001b[0m         \u001b[0;32melse\u001b[0m\u001b[0;34m:\u001b[0m\u001b[0;34m\u001b[0m\u001b[0;34m\u001b[0m\u001b[0m\n\u001b[1;32m    465\u001b[0m             \u001b[0;32mfor\u001b[0m \u001b[0mrec\u001b[0m \u001b[0;32min\u001b[0m \u001b[0mtopological\u001b[0m\u001b[0;34m.\u001b[0m\u001b[0msort\u001b[0m\u001b[0;34m(\u001b[0m\u001b[0mself\u001b[0m\u001b[0;34m.\u001b[0m\u001b[0mdependencies\u001b[0m\u001b[0;34m,\u001b[0m \u001b[0mpostsort_actions\u001b[0m\u001b[0;34m)\u001b[0m\u001b[0;34m:\u001b[0m\u001b[0;34m\u001b[0m\u001b[0;34m\u001b[0m\u001b[0m\n\u001b[0;32m--> 466\u001b[0;31m                 \u001b[0mrec\u001b[0m\u001b[0;34m.\u001b[0m\u001b[0mexecute\u001b[0m\u001b[0;34m(\u001b[0m\u001b[0mself\u001b[0m\u001b[0;34m)\u001b[0m\u001b[0;34m\u001b[0m\u001b[0;34m\u001b[0m\u001b[0m\n\u001b[0m\u001b[1;32m    467\u001b[0m \u001b[0;34m\u001b[0m\u001b[0m\n\u001b[1;32m    468\u001b[0m     \u001b[0;32mdef\u001b[0m \u001b[0mfinalize_flush_changes\u001b[0m\u001b[0;34m(\u001b[0m\u001b[0mself\u001b[0m\u001b[0;34m)\u001b[0m \u001b[0;34m->\u001b[0m \u001b[0;32mNone\u001b[0m\u001b[0;34m:\u001b[0m\u001b[0;34m\u001b[0m\u001b[0;34m\u001b[0m\u001b[0m\n",
            "\u001b[0;32m/usr/local/lib/python3.10/dist-packages/sqlalchemy/orm/unitofwork.py\u001b[0m in \u001b[0;36mexecute\u001b[0;34m(self, uow)\u001b[0m\n\u001b[1;32m    640\u001b[0m     \u001b[0;34m@\u001b[0m\u001b[0mutil\u001b[0m\u001b[0;34m.\u001b[0m\u001b[0mpreload_module\u001b[0m\u001b[0;34m(\u001b[0m\u001b[0;34m\"sqlalchemy.orm.persistence\"\u001b[0m\u001b[0;34m)\u001b[0m\u001b[0;34m\u001b[0m\u001b[0;34m\u001b[0m\u001b[0m\n\u001b[1;32m    641\u001b[0m     \u001b[0;32mdef\u001b[0m \u001b[0mexecute\u001b[0m\u001b[0;34m(\u001b[0m\u001b[0mself\u001b[0m\u001b[0;34m,\u001b[0m \u001b[0muow\u001b[0m\u001b[0;34m)\u001b[0m\u001b[0;34m:\u001b[0m\u001b[0;34m\u001b[0m\u001b[0;34m\u001b[0m\u001b[0m\n\u001b[0;32m--> 642\u001b[0;31m         util.preloaded.orm_persistence.save_obj(\n\u001b[0m\u001b[1;32m    643\u001b[0m             \u001b[0mself\u001b[0m\u001b[0;34m.\u001b[0m\u001b[0mmapper\u001b[0m\u001b[0;34m,\u001b[0m\u001b[0;34m\u001b[0m\u001b[0;34m\u001b[0m\u001b[0m\n\u001b[1;32m    644\u001b[0m             \u001b[0muow\u001b[0m\u001b[0;34m.\u001b[0m\u001b[0mstates_for_mapper_hierarchy\u001b[0m\u001b[0;34m(\u001b[0m\u001b[0mself\u001b[0m\u001b[0;34m.\u001b[0m\u001b[0mmapper\u001b[0m\u001b[0;34m,\u001b[0m \u001b[0;32mFalse\u001b[0m\u001b[0;34m,\u001b[0m \u001b[0;32mFalse\u001b[0m\u001b[0;34m)\u001b[0m\u001b[0;34m,\u001b[0m\u001b[0;34m\u001b[0m\u001b[0;34m\u001b[0m\u001b[0m\n",
            "\u001b[0;32m/usr/local/lib/python3.10/dist-packages/sqlalchemy/orm/persistence.py\u001b[0m in \u001b[0;36msave_obj\u001b[0;34m(base_mapper, states, uowtransaction, single)\u001b[0m\n\u001b[1;32m     91\u001b[0m         )\n\u001b[1;32m     92\u001b[0m \u001b[0;34m\u001b[0m\u001b[0m\n\u001b[0;32m---> 93\u001b[0;31m         _emit_insert_statements(\n\u001b[0m\u001b[1;32m     94\u001b[0m             \u001b[0mbase_mapper\u001b[0m\u001b[0;34m,\u001b[0m\u001b[0;34m\u001b[0m\u001b[0;34m\u001b[0m\u001b[0m\n\u001b[1;32m     95\u001b[0m             \u001b[0muowtransaction\u001b[0m\u001b[0;34m,\u001b[0m\u001b[0;34m\u001b[0m\u001b[0;34m\u001b[0m\u001b[0m\n",
            "\u001b[0;32m/usr/local/lib/python3.10/dist-packages/sqlalchemy/orm/persistence.py\u001b[0m in \u001b[0;36m_emit_insert_statements\u001b[0;34m(base_mapper, uowtransaction, mapper, table, insert, bookkeeping, use_orm_insert_stmt, execution_options)\u001b[0m\n\u001b[1;32m   1224\u001b[0m                         )\n\u001b[1;32m   1225\u001b[0m                     \u001b[0;32melse\u001b[0m\u001b[0;34m:\u001b[0m\u001b[0;34m\u001b[0m\u001b[0;34m\u001b[0m\u001b[0m\n\u001b[0;32m-> 1226\u001b[0;31m                         result = connection.execute(\n\u001b[0m\u001b[1;32m   1227\u001b[0m                             \u001b[0mstatement\u001b[0m\u001b[0;34m,\u001b[0m\u001b[0;34m\u001b[0m\u001b[0;34m\u001b[0m\u001b[0m\n\u001b[1;32m   1228\u001b[0m                             \u001b[0mparams\u001b[0m\u001b[0;34m,\u001b[0m\u001b[0;34m\u001b[0m\u001b[0;34m\u001b[0m\u001b[0m\n",
            "\u001b[0;32m/usr/local/lib/python3.10/dist-packages/sqlalchemy/engine/base.py\u001b[0m in \u001b[0;36mexecute\u001b[0;34m(self, statement, parameters, execution_options)\u001b[0m\n\u001b[1;32m   1410\u001b[0m             \u001b[0;32mraise\u001b[0m \u001b[0mexc\u001b[0m\u001b[0;34m.\u001b[0m\u001b[0mObjectNotExecutableError\u001b[0m\u001b[0;34m(\u001b[0m\u001b[0mstatement\u001b[0m\u001b[0;34m)\u001b[0m \u001b[0;32mfrom\u001b[0m \u001b[0merr\u001b[0m\u001b[0;34m\u001b[0m\u001b[0;34m\u001b[0m\u001b[0m\n\u001b[1;32m   1411\u001b[0m         \u001b[0;32melse\u001b[0m\u001b[0;34m:\u001b[0m\u001b[0;34m\u001b[0m\u001b[0;34m\u001b[0m\u001b[0m\n\u001b[0;32m-> 1412\u001b[0;31m             return meth(\n\u001b[0m\u001b[1;32m   1413\u001b[0m                 \u001b[0mself\u001b[0m\u001b[0;34m,\u001b[0m\u001b[0;34m\u001b[0m\u001b[0;34m\u001b[0m\u001b[0m\n\u001b[1;32m   1414\u001b[0m                 \u001b[0mdistilled_parameters\u001b[0m\u001b[0;34m,\u001b[0m\u001b[0;34m\u001b[0m\u001b[0;34m\u001b[0m\u001b[0m\n",
            "\u001b[0;32m/usr/local/lib/python3.10/dist-packages/sqlalchemy/sql/elements.py\u001b[0m in \u001b[0;36m_execute_on_connection\u001b[0;34m(self, connection, distilled_params, execution_options)\u001b[0m\n\u001b[1;32m    481\u001b[0m             \u001b[0;32mif\u001b[0m \u001b[0mTYPE_CHECKING\u001b[0m\u001b[0;34m:\u001b[0m\u001b[0;34m\u001b[0m\u001b[0;34m\u001b[0m\u001b[0m\n\u001b[1;32m    482\u001b[0m                 \u001b[0;32massert\u001b[0m \u001b[0misinstance\u001b[0m\u001b[0;34m(\u001b[0m\u001b[0mself\u001b[0m\u001b[0;34m,\u001b[0m \u001b[0mExecutable\u001b[0m\u001b[0;34m)\u001b[0m\u001b[0;34m\u001b[0m\u001b[0;34m\u001b[0m\u001b[0m\n\u001b[0;32m--> 483\u001b[0;31m             return connection._execute_clauseelement(\n\u001b[0m\u001b[1;32m    484\u001b[0m                 \u001b[0mself\u001b[0m\u001b[0;34m,\u001b[0m \u001b[0mdistilled_params\u001b[0m\u001b[0;34m,\u001b[0m \u001b[0mexecution_options\u001b[0m\u001b[0;34m\u001b[0m\u001b[0;34m\u001b[0m\u001b[0m\n\u001b[1;32m    485\u001b[0m             )\n",
            "\u001b[0;32m/usr/local/lib/python3.10/dist-packages/sqlalchemy/engine/base.py\u001b[0m in \u001b[0;36m_execute_clauseelement\u001b[0;34m(self, elem, distilled_parameters, execution_options)\u001b[0m\n\u001b[1;32m   1633\u001b[0m             \u001b[0mlinting\u001b[0m\u001b[0;34m=\u001b[0m\u001b[0mself\u001b[0m\u001b[0;34m.\u001b[0m\u001b[0mdialect\u001b[0m\u001b[0;34m.\u001b[0m\u001b[0mcompiler_linting\u001b[0m \u001b[0;34m|\u001b[0m \u001b[0mcompiler\u001b[0m\u001b[0;34m.\u001b[0m\u001b[0mWARN_LINTING\u001b[0m\u001b[0;34m,\u001b[0m\u001b[0;34m\u001b[0m\u001b[0;34m\u001b[0m\u001b[0m\n\u001b[1;32m   1634\u001b[0m         )\n\u001b[0;32m-> 1635\u001b[0;31m         ret = self._execute_context(\n\u001b[0m\u001b[1;32m   1636\u001b[0m             \u001b[0mdialect\u001b[0m\u001b[0;34m,\u001b[0m\u001b[0;34m\u001b[0m\u001b[0;34m\u001b[0m\u001b[0m\n\u001b[1;32m   1637\u001b[0m             \u001b[0mdialect\u001b[0m\u001b[0;34m.\u001b[0m\u001b[0mexecution_ctx_cls\u001b[0m\u001b[0;34m.\u001b[0m\u001b[0m_init_compiled\u001b[0m\u001b[0;34m,\u001b[0m\u001b[0;34m\u001b[0m\u001b[0;34m\u001b[0m\u001b[0m\n",
            "\u001b[0;32m/usr/local/lib/python3.10/dist-packages/sqlalchemy/engine/base.py\u001b[0m in \u001b[0;36m_execute_context\u001b[0;34m(self, dialect, constructor, statement, parameters, execution_options, *args, **kw)\u001b[0m\n\u001b[1;32m   1842\u001b[0m             )\n\u001b[1;32m   1843\u001b[0m         \u001b[0;32melse\u001b[0m\u001b[0;34m:\u001b[0m\u001b[0;34m\u001b[0m\u001b[0;34m\u001b[0m\u001b[0m\n\u001b[0;32m-> 1844\u001b[0;31m             return self._exec_single_context(\n\u001b[0m\u001b[1;32m   1845\u001b[0m                 \u001b[0mdialect\u001b[0m\u001b[0;34m,\u001b[0m \u001b[0mcontext\u001b[0m\u001b[0;34m,\u001b[0m \u001b[0mstatement\u001b[0m\u001b[0;34m,\u001b[0m \u001b[0mparameters\u001b[0m\u001b[0;34m\u001b[0m\u001b[0;34m\u001b[0m\u001b[0m\n\u001b[1;32m   1846\u001b[0m             )\n",
            "\u001b[0;32m/usr/local/lib/python3.10/dist-packages/sqlalchemy/engine/base.py\u001b[0m in \u001b[0;36m_exec_single_context\u001b[0;34m(self, dialect, context, statement, parameters)\u001b[0m\n\u001b[1;32m   1982\u001b[0m \u001b[0;34m\u001b[0m\u001b[0m\n\u001b[1;32m   1983\u001b[0m         \u001b[0;32mexcept\u001b[0m \u001b[0mBaseException\u001b[0m \u001b[0;32mas\u001b[0m \u001b[0me\u001b[0m\u001b[0;34m:\u001b[0m\u001b[0;34m\u001b[0m\u001b[0;34m\u001b[0m\u001b[0m\n\u001b[0;32m-> 1984\u001b[0;31m             self._handle_dbapi_exception(\n\u001b[0m\u001b[1;32m   1985\u001b[0m                 \u001b[0me\u001b[0m\u001b[0;34m,\u001b[0m \u001b[0mstr_statement\u001b[0m\u001b[0;34m,\u001b[0m \u001b[0meffective_parameters\u001b[0m\u001b[0;34m,\u001b[0m \u001b[0mcursor\u001b[0m\u001b[0;34m,\u001b[0m \u001b[0mcontext\u001b[0m\u001b[0;34m\u001b[0m\u001b[0;34m\u001b[0m\u001b[0m\n\u001b[1;32m   1986\u001b[0m             )\n",
            "\u001b[0;32m/usr/local/lib/python3.10/dist-packages/sqlalchemy/engine/base.py\u001b[0m in \u001b[0;36m_handle_dbapi_exception\u001b[0;34m(self, e, statement, parameters, cursor, context, is_sub_exec)\u001b[0m\n\u001b[1;32m   2340\u001b[0m             \u001b[0;32melse\u001b[0m\u001b[0;34m:\u001b[0m\u001b[0;34m\u001b[0m\u001b[0;34m\u001b[0m\u001b[0m\n\u001b[1;32m   2341\u001b[0m                 \u001b[0;32massert\u001b[0m \u001b[0mexc_info\u001b[0m\u001b[0;34m[\u001b[0m\u001b[0;36m1\u001b[0m\u001b[0;34m]\u001b[0m \u001b[0;32mis\u001b[0m \u001b[0;32mnot\u001b[0m \u001b[0;32mNone\u001b[0m\u001b[0;34m\u001b[0m\u001b[0;34m\u001b[0m\u001b[0m\n\u001b[0;32m-> 2342\u001b[0;31m                 \u001b[0;32mraise\u001b[0m \u001b[0mexc_info\u001b[0m\u001b[0;34m[\u001b[0m\u001b[0;36m1\u001b[0m\u001b[0;34m]\u001b[0m\u001b[0;34m.\u001b[0m\u001b[0mwith_traceback\u001b[0m\u001b[0;34m(\u001b[0m\u001b[0mexc_info\u001b[0m\u001b[0;34m[\u001b[0m\u001b[0;36m2\u001b[0m\u001b[0;34m]\u001b[0m\u001b[0;34m)\u001b[0m\u001b[0;34m\u001b[0m\u001b[0;34m\u001b[0m\u001b[0m\n\u001b[0m\u001b[1;32m   2343\u001b[0m         \u001b[0;32mfinally\u001b[0m\u001b[0;34m:\u001b[0m\u001b[0;34m\u001b[0m\u001b[0;34m\u001b[0m\u001b[0m\n\u001b[1;32m   2344\u001b[0m             \u001b[0;32mdel\u001b[0m \u001b[0mself\u001b[0m\u001b[0;34m.\u001b[0m\u001b[0m_reentrant_error\u001b[0m\u001b[0;34m\u001b[0m\u001b[0;34m\u001b[0m\u001b[0m\n",
            "\u001b[0;32m/usr/local/lib/python3.10/dist-packages/sqlalchemy/engine/base.py\u001b[0m in \u001b[0;36m_exec_single_context\u001b[0;34m(self, dialect, context, statement, parameters)\u001b[0m\n\u001b[1;32m   1963\u001b[0m                             \u001b[0;32mbreak\u001b[0m\u001b[0;34m\u001b[0m\u001b[0;34m\u001b[0m\u001b[0m\n\u001b[1;32m   1964\u001b[0m                 \u001b[0;32mif\u001b[0m \u001b[0;32mnot\u001b[0m \u001b[0mevt_handled\u001b[0m\u001b[0;34m:\u001b[0m\u001b[0;34m\u001b[0m\u001b[0;34m\u001b[0m\u001b[0m\n\u001b[0;32m-> 1965\u001b[0;31m                     self.dialect.do_execute(\n\u001b[0m\u001b[1;32m   1966\u001b[0m                         \u001b[0mcursor\u001b[0m\u001b[0;34m,\u001b[0m \u001b[0mstr_statement\u001b[0m\u001b[0;34m,\u001b[0m \u001b[0meffective_parameters\u001b[0m\u001b[0;34m,\u001b[0m \u001b[0mcontext\u001b[0m\u001b[0;34m\u001b[0m\u001b[0;34m\u001b[0m\u001b[0m\n\u001b[1;32m   1967\u001b[0m                     )\n",
            "\u001b[0;32m/usr/local/lib/python3.10/dist-packages/sqlalchemy/engine/default.py\u001b[0m in \u001b[0;36mdo_execute\u001b[0;34m(self, cursor, statement, parameters, context)\u001b[0m\n\u001b[1;32m    919\u001b[0m \u001b[0;34m\u001b[0m\u001b[0m\n\u001b[1;32m    920\u001b[0m     \u001b[0;32mdef\u001b[0m \u001b[0mdo_execute\u001b[0m\u001b[0;34m(\u001b[0m\u001b[0mself\u001b[0m\u001b[0;34m,\u001b[0m \u001b[0mcursor\u001b[0m\u001b[0;34m,\u001b[0m \u001b[0mstatement\u001b[0m\u001b[0;34m,\u001b[0m \u001b[0mparameters\u001b[0m\u001b[0;34m,\u001b[0m \u001b[0mcontext\u001b[0m\u001b[0;34m=\u001b[0m\u001b[0;32mNone\u001b[0m\u001b[0;34m)\u001b[0m\u001b[0;34m:\u001b[0m\u001b[0;34m\u001b[0m\u001b[0;34m\u001b[0m\u001b[0m\n\u001b[0;32m--> 921\u001b[0;31m         \u001b[0mcursor\u001b[0m\u001b[0;34m.\u001b[0m\u001b[0mexecute\u001b[0m\u001b[0;34m(\u001b[0m\u001b[0mstatement\u001b[0m\u001b[0;34m,\u001b[0m \u001b[0mparameters\u001b[0m\u001b[0;34m)\u001b[0m\u001b[0;34m\u001b[0m\u001b[0;34m\u001b[0m\u001b[0m\n\u001b[0m\u001b[1;32m    922\u001b[0m \u001b[0;34m\u001b[0m\u001b[0m\n\u001b[1;32m    923\u001b[0m     \u001b[0;32mdef\u001b[0m \u001b[0mdo_execute_no_params\u001b[0m\u001b[0;34m(\u001b[0m\u001b[0mself\u001b[0m\u001b[0;34m,\u001b[0m \u001b[0mcursor\u001b[0m\u001b[0;34m,\u001b[0m \u001b[0mstatement\u001b[0m\u001b[0;34m,\u001b[0m \u001b[0mcontext\u001b[0m\u001b[0;34m=\u001b[0m\u001b[0;32mNone\u001b[0m\u001b[0;34m)\u001b[0m\u001b[0;34m:\u001b[0m\u001b[0;34m\u001b[0m\u001b[0;34m\u001b[0m\u001b[0m\n",
            "\u001b[0;31mKeyboardInterrupt\u001b[0m: "
          ]
        }
      ]
    },
    {
      "cell_type": "markdown",
      "source": [
        "## 探索結果の可視化\n",
        "最適化の探索結果を可視化することができます。\n",
        "Optunaの可視化はoptuna.visualizationメソッドを用います。\n",
        "\n",
        "公式ドキュメント:   \n",
        "https://optuna.readthedocs.io/en/stable/reference/visualization/index.html  \n",
        "公式サンプルコード：  \n",
        "https://github.com/optuna/optuna-examples/blob/main/visualization/plot_study.ipynb\n"
      ],
      "metadata": {
        "id": "b-Uxnb752xSu"
      }
    },
    {
      "cell_type": "markdown",
      "source": [
        "# 探索の効率化"
      ],
      "metadata": {
        "id": "OxdhK1YvWmAV"
      }
    },
    {
      "cell_type": "markdown",
      "source": [
        "## 1: 最適化アルゴリズムの選択\n",
        "次に評価すべきパラメータを選択するには、  \n",
        "サンプラーがパラメータの探索空間から探索点選択することで行われる。\n",
        "\n",
        "### Samperクラス\n",
        "Optunaでは探索点選択を行うアルゴリズムはSamperクラスで実装されている。\n",
        "Optunaのv2.2.0で以下のような**sampler**を利用する事ができる。\n",
        "詳細は、各々のドキュメントを参照してください。\n",
        "\n",
        "- [`optuna.samplers.GridSampler`](https://optuna.readthedocs.io/en/stable/reference/generated/optuna.samplers.GridSampler.html)\n",
        "  - グリッドサーチを行うsamplerです。\n",
        "- [`optuna.samplers.RandomSampler`](https://optuna.readthedocs.io/en/stable/reference/generated/optuna.samplers.RandomSampler.html)\n",
        "  - ランダムサーチを行うsamplerです。\n",
        "- [`optuna.samplers.TPESampler`](https://optuna.readthedocs.io/en/stable/reference/generated/optuna.samplers.TPESampler.html)\n",
        "  - ベイズ最適化のアルゴリズムの1つであるTPE (Tree-structured Parzen Estimator)を実装しているsamplerです。\n",
        "  TPEはOptunaのデフォルトのsamplerです。アルゴリズムの詳細は[元論文](https://papers.nips.cc/paper/4443-algorithms-for-hyper-parameter-optimization.pdf)を参照してください。\n",
        "- [`optuna.samplers.CmaEsSampler`](https://optuna.readthedocs.io/en/stable/reference/generated/optuna.samplers.CmaEsSampler.html)\n",
        "  - 進化計算のアルゴリズムの1つであるCMA-ES (Covariance Matrix Adaptation - Evolution Strategy) を実装しているsamplerです。\n",
        "  アルゴリズムの詳細は原著論文の著者によって書かれた[こちらの論文](https://arxiv.org/abs/1604.00772)を参照するとわかりやすいかと思います。\n",
        "- [`optuna.integration.SkoptSampler`](https://optuna.readthedocs.io/en/stable/reference/generated/optuna.integration.SkoptSampler.html)\n",
        "  - ベイズ最適化の代表的なアルゴリズムである、代理モデル(例えばガウス過程やランダムフォレスト)に基づく最適化を実装しているsamplerです。\n",
        "  アルゴリズムの実装はサードパーティライブラリの `scikit-optimize` を利用しており、Optunaのbuilt-inのsamplerではありません。\n",
        "  実装されているアルゴリズムの詳細は[scikit-optimizeの公式ページ](https://scikit-optimize.github.io/stable/auto_examples/bayesian-optimization.html)を参照してください。\n",
        "  代理モデルに基づく最適化については、[こちらの論文](https://ieeexplore.ieee.org/document/7352306)が網羅的によくまとまっています。\n",
        "\n",
        "\n",
        "### 指定方法\n",
        "create_study()の引数samplerで指定  \n",
        "https://optuna.readthedocs.io/en/stable/reference/generated/optuna.create_study.html  \n",
        "単目的最適化のデフォルトは***TPESampler***\n",
        "多目的最適化のデフォルトは***NGSAIISampler***  \n",
        "\n",
        "### 探索点選択アルゴリズムの使い分け\n",
        "以下の公式ドキュメントの記載表より最適化対象で対応しているものを選択する。  \n",
        "https://optuna.readthedocs.io/en/stable/reference/samplers/index.html\n",
        "\n",
        "最もわかりやすい使い分け基準は、自分の最適化したい目的関数にかけられるトライアル数です。  \n",
        "例えば、数百トライアル程度ならばデフォルトのTPESamplerを使うが、  \n",
        "数千トライアルを実行するときはCmaEsSanplerを利用すべき。\n",
        "\n",
        "\n",
        "|  サンプラー  |  アルゴリズム | 動作速度 | 推奨されるトライアル数 |\n",
        "| ---- | ---- | ---- | ---- |\n",
        "|  TPESampler  | ベイズ最適化 | 速い | 最大1000程度 |\n",
        "|  NSGAIISampler  | 進化計算 | 速い | 最大10000程度 |\n",
        "| BoTorchSampler | ベイズ最適化 | 遅い | 最大100程度 |\n",
        "| QMCSampler | 準モンテカルロ法 | 速い | いくらでも |\n",
        "| cmaEsSampler | 進化計算 | 速い | 最大10000程度 |\n",
        "| RandomSampler | ランダムサーチ | 速い | いくらでも |\n",
        "| GridSampler | グリッドサーチ | 速い | 組み合わせの数だけ可能 |\n"
      ],
      "metadata": {
        "id": "2heBO6esx9-v"
      }
    },
    {
      "cell_type": "markdown",
      "source": [
        "## 2: 枝刈りによるトライアルの早期終了\n",
        "機械学習では学習時間が長く、1トライアルは設定したエポック分の総学習時間になる。  \n",
        "そのため枝切りによってハイパーパラメータ調整にかかる実行時間の短縮を行います。  \n",
        "学習途中の評価位置の変化をみて、望ましい数近いが得られる見込みがない場合は\n",
        "途中で学習を打ち切ります。  \n",
        "Optunaでは枝切りを自動的に行うことができます。\n",
        "\n",
        "### prunerコンポーネント\n",
        "Optunaでは枝切りの手法がprunerで実装されている。\n",
        "Optunaのv2.2.0時点で以下のような**pruner**を利用する事ができます。\n",
        "\n",
        "- [`optuna.pruners.NopPruner`](https://optuna.readthedocs.io/en/stable/reference/generated/optuna.pruners.NopPruner.html)\n",
        "  - 何も枝刈りしない、というprunerです。\n",
        "- [`optuna.pruners.PercentilePruner`](https://optuna.readthedocs.io/en/stable/reference/generated/optuna.pruners.PercentilePruner.html)\n",
        "  - 各epochにおいて、最適化履歴の 下位$\\alpha$%に入っていれば枝刈りする、というprunerです。\n",
        "- [`optuna.pruners.MedianPruner`](https://optuna.readthedocs.io/en/stable/reference/generated/optuna.pruners.MedianPruner.html)\n",
        "  - 各epochにおいて、最適化履歴の下位50%に入っていれば枝刈りする、というprunerです。\n",
        "- [`optuna.pruners.SuccessiveHalvingPruner`](https://optuna.readthedocs.io/en/stable/reference/generated/optuna.pruners.SuccessiveHalvingPruner.html)\n",
        "  - Successive Halvingという有名な枝刈りアルゴリズムを実装しているprunerです。\n",
        "  アルゴリズムの詳細は、[こちらの論文](https://arxiv.org/abs/1810.05934)を参照してください。\n",
        "  なお、Optunaでは実装の都合上、論文とは多少異なるアルゴリズムを実装しています。\n",
        "- [`optuna.pruners.HyperbandPruner`](https://optuna.readthedocs.io/en/stable/reference/generated/optuna.pruners.HyperbandPruner.html)\n",
        "  - Hyperbandという最先端の枝刈りアルゴリズムを実装しているprunerです。\n",
        "  アルゴリズムの詳細は、[元論文](https://arxiv.org/abs/1603.06560)を参照してください。\n",
        "  なお、Optunaでは実装の都合上、論文とは多少異なるアルゴリズムを実装しています。\n",
        "- [`optuna.pruners.ThresholdPruner`](https://optuna.readthedocs.io/en/stable/reference/generated/optuna.pruners.ThresholdPruner.html)\n",
        "  - 各epochにおいて、与えられた閾値から外れた値の場合に枝刈りする、というprunerです。\n",
        "\n",
        "### 指定方法\n",
        "create_study()の引数prunerで指定  \n",
        "https://optuna.readthedocs.io/en/stable/reference/generated/optuna.create_study.html  \n",
        "\n",
        "デフォルトは***BasePruner***\n",
        "\n",
        "### 枝切りの手順\n",
        "目的関数の最後に次の手順を追加します。\n",
        "1.  traial.reportで中間評価値を報告\n",
        "2.  trial.should_runeで枝刈りを行うべきかの判定\n",
        "\n",
        "```python\n",
        "# 1. 中間評価値を報告\n",
        "trial.report(accuracy, epoch)\n",
        "# 2. 枝刈りを売るべきか判定する\n",
        "if trial.should_prune():\n",
        "  raise optuna.exception.TrialPruned()\n",
        "```\n",
        "\n",
        "### 機械学習における枝切り\n",
        "枝切りを適応した学習率の最適化では学習率が小さいトライアルが枝切りされやすい傾向になる。  \n",
        "そのため、枝切りを行わない方設定でprunerで***NopPruner***を用います。\n",
        "\n",
        "一方で、枝切りを多く行い、トライアル数を増やすことが性能改善につながることもよくあります。  \n",
        "結論、問題の性質に応じて適したアルゴリズムが変化するので、事前知識が必要です。"
      ],
      "metadata": {
        "id": "Wfj56eesWqpL"
      }
    },
    {
      "cell_type": "markdown",
      "source": [
        "## 3: 事前知識の適応\n",
        "実際のユースケースでは事前に良好な探索点が判明している場合があります。    \n",
        "全てをOptunaに任せるのではなく、ユーザーの事前知識を活用します。\n",
        "\n",
        "### ユーザーの事前知識\n",
        "1.  過去の論文や実験で発見され、良好だと反面しているパラメータ\n",
        "2.  最適化結果の比較対象（ライブラリのデフォルト値、既存研究や運用中のシステムにおける採用値）が使用しているパラメータ\n",
        "3. 探索空間中で特に重点的に探索したい領域\n",
        "\n",
        "### study.enqueue_trialメソッド\n",
        "enqueueメソッドを使うことによって、サンプラーに探索すべき領域のヒントを与えることができる。\n",
        "\n",
        "\n",
        "\n"
      ],
      "metadata": {
        "id": "-nHTk0y9jVyE"
      }
    },
    {
      "cell_type": "code",
      "source": [
        "import optuna\n",
        "\n",
        "def objective(trial):\n",
        "    x = trial.suggest_float(\"x\", -1, 1)\n",
        "    y = trial.suggest_float(\"y\", -1, 1)\n",
        "    return x * y\n",
        "\n",
        "study = optuna.create_study(direction=\"minimize\")\n",
        "\n",
        "study.optimize(objective, n_trials=5)\n",
        "for trial in study.trials:\n",
        "    print(f\"[{trial.number}] params={trial.params}, value={trial.value}\")\n",
        "\n",
        "print(f\"Best objective value: {study.best_value}\")\n",
        "print(f\"Best parameter: {study.best_params}\")"
      ],
      "metadata": {
        "colab": {
          "base_uri": "https://localhost:8080/"
        },
        "id": "2cVrdmb2psmM",
        "outputId": "5cf2b7fd-8426-4992-f80d-902216dd419f"
      },
      "execution_count": 38,
      "outputs": [
        {
          "output_type": "stream",
          "name": "stderr",
          "text": [
            "[I 2023-07-03 16:55:11,884] A new study created in memory with name: no-name-4f135628-c158-4bf5-9cd1-7042dd840ac7\n",
            "[I 2023-07-03 16:55:11,888] Trial 0 finished with value: -0.518498075523646 and parameters: {'x': -0.530842035689105, 'y': 0.9767464531149368}. Best is trial 0 with value: -0.518498075523646.\n",
            "[I 2023-07-03 16:55:11,891] Trial 1 finished with value: -0.059192992788933994 and parameters: {'x': -0.09301552436114968, 'y': 0.6363775638043649}. Best is trial 0 with value: -0.518498075523646.\n",
            "[I 2023-07-03 16:55:11,895] Trial 2 finished with value: 0.2696185125224186 and parameters: {'x': 0.9582142242566596, 'y': 0.28137602813355933}. Best is trial 0 with value: -0.518498075523646.\n",
            "[I 2023-07-03 16:55:11,899] Trial 3 finished with value: -0.10262101663861367 and parameters: {'x': 0.20915738320178168, 'y': -0.4906401823721971}. Best is trial 0 with value: -0.518498075523646.\n",
            "[I 2023-07-03 16:55:11,902] Trial 4 finished with value: -0.1315354792856826 and parameters: {'x': -0.416254704691317, 'y': 0.3159975798549248}. Best is trial 0 with value: -0.518498075523646.\n"
          ]
        },
        {
          "output_type": "stream",
          "name": "stdout",
          "text": [
            "[0] params={'x': -0.530842035689105, 'y': 0.9767464531149368}, value=-0.518498075523646\n",
            "[1] params={'x': -0.09301552436114968, 'y': 0.6363775638043649}, value=-0.059192992788933994\n",
            "[2] params={'x': 0.9582142242566596, 'y': 0.28137602813355933}, value=0.2696185125224186\n",
            "[3] params={'x': 0.20915738320178168, 'y': -0.4906401823721971}, value=-0.10262101663861367\n",
            "[4] params={'x': -0.416254704691317, 'y': 0.3159975798549248}, value=-0.1315354792856826\n",
            "Best objective value: -0.518498075523646\n",
            "Best parameter: {'x': -0.530842035689105, 'y': 0.9767464531149368}\n"
          ]
        }
      ]
    },
    {
      "cell_type": "code",
      "source": [
        "import optuna\n",
        "\n",
        "def objective(trial):\n",
        "    x = trial.suggest_float(\"x\", -1, 1)\n",
        "    y = trial.suggest_float(\"y\", -1, 1)\n",
        "    return x * y\n",
        "\n",
        "study = optuna.create_study(direction=\"minimize\")\n",
        "\n",
        "study.enqueue_trial({\"x\": -0.1})\n",
        "\n",
        "study.optimize(objective, n_trials=5)\n",
        "for trial in study.trials:\n",
        "    print(f\"[{trial.number}] params={trial.params}, value={trial.value}\")\n",
        "\n",
        "print(f\"Best objective value: {study.best_value}\")\n",
        "print(f\"Best parameter: {study.best_params}\")"
      ],
      "metadata": {
        "id": "L3oL-ottxblq",
        "colab": {
          "base_uri": "https://localhost:8080/"
        },
        "outputId": "a4785afa-1f4f-4c15-db95-462db5287390"
      },
      "execution_count": 39,
      "outputs": [
        {
          "output_type": "stream",
          "name": "stderr",
          "text": [
            "[I 2023-07-03 16:55:15,090] A new study created in memory with name: no-name-232c099d-4435-40f5-8a59-e316760e3cbf\n",
            "[I 2023-07-03 16:55:15,094] Trial 0 finished with value: -0.09363711453586832 and parameters: {'x': -0.1, 'y': 0.9363711453586832}. Best is trial 0 with value: -0.09363711453586832.\n",
            "[I 2023-07-03 16:55:15,101] Trial 1 finished with value: -0.23744960489770078 and parameters: {'x': 0.7212032250206679, 'y': -0.32924090833190056}. Best is trial 1 with value: -0.23744960489770078.\n",
            "[I 2023-07-03 16:55:15,109] Trial 2 finished with value: -0.5668024338891039 and parameters: {'x': -0.5965058370522187, 'y': 0.9502043377984337}. Best is trial 2 with value: -0.5668024338891039.\n",
            "[I 2023-07-03 16:55:15,111] Trial 3 finished with value: -0.26991315760839685 and parameters: {'x': -0.7204962940911606, 'y': 0.3746211601946785}. Best is trial 2 with value: -0.5668024338891039.\n",
            "[I 2023-07-03 16:55:15,115] Trial 4 finished with value: -0.029673062658218775 and parameters: {'x': 0.4465149086493734, 'y': -0.06645480830186479}. Best is trial 2 with value: -0.5668024338891039.\n"
          ]
        },
        {
          "output_type": "stream",
          "name": "stdout",
          "text": [
            "[0] params={'x': -0.1, 'y': 0.9363711453586832}, value=-0.09363711453586832\n",
            "[1] params={'x': 0.7212032250206679, 'y': -0.32924090833190056}, value=-0.23744960489770078\n",
            "[2] params={'x': -0.5965058370522187, 'y': 0.9502043377984337}, value=-0.5668024338891039\n",
            "[3] params={'x': -0.7204962940911606, 'y': 0.3746211601946785}, value=-0.26991315760839685\n",
            "[4] params={'x': 0.4465149086493734, 'y': -0.06645480830186479}, value=-0.029673062658218775\n",
            "Best objective value: -0.5668024338891039\n",
            "Best parameter: {'x': -0.5965058370522187, 'y': 0.9502043377984337}\n"
          ]
        }
      ]
    },
    {
      "cell_type": "code",
      "source": [],
      "metadata": {
        "id": "htQoNlDBpYMC"
      },
      "execution_count": null,
      "outputs": []
    }
  ]
}